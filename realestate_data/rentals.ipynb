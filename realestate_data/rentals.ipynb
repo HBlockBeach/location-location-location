{
 "cells": [
  {
   "cell_type": "code",
   "execution_count": 1,
   "metadata": {},
   "outputs": [],
   "source": [
    "import pandas as pd\n",
    "from config import gkey\n",
    "import requests\n",
    "from pprint import pprint"
   ]
  },
  {
   "cell_type": "code",
   "execution_count": 3,
   "metadata": {},
   "outputs": [
    {
     "output_type": "execute_result",
     "data": {
      "text/plain": "     RegionID                          RegionName  SizeRank  2014-01  2014-02  \\\n0      102001                       United States         0   1307.0     1312   \n1      394913                        New York, NY         1   2265.0     2273   \n2      753899  Los Angeles-Long Beach-Anaheim, CA         2   1826.0     1839   \n3      394463                         Chicago, IL         3   1489.0     1492   \n4      394514               Dallas-Fort Worth, TX         4   1211.0     1216   \n..        ...                                 ...       ...      ...      ...   \n101    394995                  Port St. Lucie, FL       119   1147.0     1155   \n102    394602                    Fort Collins, CO       159   1216.0     1228   \n103    394405                         Boulder, CO       162   1515.0     1525   \n104    394645                         Greeley, CO       177   1309.0     1318   \n105    394623                     Gainesville, GA       229    954.0      959   \n\n     2014-03  2014-04  2014-05  2014-06  2014-07  ...  2019-09  2019-10  \\\n0       1318     1323     1328     1333   1339.0  ...     1612     1616   \n1       2282     2291     2299     2308   2317.0  ...     2610     2614   \n2       1851     1864     1876     1888   1901.0  ...     2467     2472   \n3       1496     1499     1503     1507   1510.0  ...     1711     1714   \n4       1222     1228     1234     1239   1245.0  ...     1527     1530   \n..       ...      ...      ...      ...      ...  ...      ...      ...   \n101     1162     1170     1177     1184   1191.0  ...     1588     1595   \n102     1240     1251     1263     1274   1286.0  ...     1574     1576   \n103     1535     1544     1554     1564   1573.0  ...     1960     1964   \n104     1327     1335     1344     1353   1362.0  ...     1719     1721   \n105      963      967      971      976    980.0  ...     1324     1326   \n\n     2019-11  2019-12  2020-01  2020-02  2020-03  2020-04  2020-05  2020-06  \n0       1619     1623     1626     1629     1632     1635   1638.0     1641  \n1       2616     2618     2619     2621     2623     2624   2625.0     2626  \n2       2476     2479     2483     2486     2490     2493   2496.0     2500  \n3       1716     1717     1719     1721     1723     1724   1726.0     1727  \n4       1533     1535     1537     1539     1542     1544   1546.0     1548  \n..       ...      ...      ...      ...      ...      ...      ...      ...  \n101     1602     1609     1616     1623     1631     1638   1645.0     1652  \n102     1578     1580     1582     1584     1586     1587   1589.0     1591  \n103     1966     1968     1970     1972     1974     1976   1977.0     1979  \n104     1723     1725     1727     1729     1731     1734   1736.0     1738  \n105     1328     1330     1332     1334     1336     1338   1339.0     1341  \n\n[106 rows x 81 columns]",
      "text/html": "<div>\n<style scoped>\n    .dataframe tbody tr th:only-of-type {\n        vertical-align: middle;\n    }\n\n    .dataframe tbody tr th {\n        vertical-align: top;\n    }\n\n    .dataframe thead th {\n        text-align: right;\n    }\n</style>\n<table border=\"1\" class=\"dataframe\">\n  <thead>\n    <tr style=\"text-align: right;\">\n      <th></th>\n      <th>RegionID</th>\n      <th>RegionName</th>\n      <th>SizeRank</th>\n      <th>2014-01</th>\n      <th>2014-02</th>\n      <th>2014-03</th>\n      <th>2014-04</th>\n      <th>2014-05</th>\n      <th>2014-06</th>\n      <th>2014-07</th>\n      <th>...</th>\n      <th>2019-09</th>\n      <th>2019-10</th>\n      <th>2019-11</th>\n      <th>2019-12</th>\n      <th>2020-01</th>\n      <th>2020-02</th>\n      <th>2020-03</th>\n      <th>2020-04</th>\n      <th>2020-05</th>\n      <th>2020-06</th>\n    </tr>\n  </thead>\n  <tbody>\n    <tr>\n      <th>0</th>\n      <td>102001</td>\n      <td>United States</td>\n      <td>0</td>\n      <td>1307.0</td>\n      <td>1312</td>\n      <td>1318</td>\n      <td>1323</td>\n      <td>1328</td>\n      <td>1333</td>\n      <td>1339.0</td>\n      <td>...</td>\n      <td>1612</td>\n      <td>1616</td>\n      <td>1619</td>\n      <td>1623</td>\n      <td>1626</td>\n      <td>1629</td>\n      <td>1632</td>\n      <td>1635</td>\n      <td>1638.0</td>\n      <td>1641</td>\n    </tr>\n    <tr>\n      <th>1</th>\n      <td>394913</td>\n      <td>New York, NY</td>\n      <td>1</td>\n      <td>2265.0</td>\n      <td>2273</td>\n      <td>2282</td>\n      <td>2291</td>\n      <td>2299</td>\n      <td>2308</td>\n      <td>2317.0</td>\n      <td>...</td>\n      <td>2610</td>\n      <td>2614</td>\n      <td>2616</td>\n      <td>2618</td>\n      <td>2619</td>\n      <td>2621</td>\n      <td>2623</td>\n      <td>2624</td>\n      <td>2625.0</td>\n      <td>2626</td>\n    </tr>\n    <tr>\n      <th>2</th>\n      <td>753899</td>\n      <td>Los Angeles-Long Beach-Anaheim, CA</td>\n      <td>2</td>\n      <td>1826.0</td>\n      <td>1839</td>\n      <td>1851</td>\n      <td>1864</td>\n      <td>1876</td>\n      <td>1888</td>\n      <td>1901.0</td>\n      <td>...</td>\n      <td>2467</td>\n      <td>2472</td>\n      <td>2476</td>\n      <td>2479</td>\n      <td>2483</td>\n      <td>2486</td>\n      <td>2490</td>\n      <td>2493</td>\n      <td>2496.0</td>\n      <td>2500</td>\n    </tr>\n    <tr>\n      <th>3</th>\n      <td>394463</td>\n      <td>Chicago, IL</td>\n      <td>3</td>\n      <td>1489.0</td>\n      <td>1492</td>\n      <td>1496</td>\n      <td>1499</td>\n      <td>1503</td>\n      <td>1507</td>\n      <td>1510.0</td>\n      <td>...</td>\n      <td>1711</td>\n      <td>1714</td>\n      <td>1716</td>\n      <td>1717</td>\n      <td>1719</td>\n      <td>1721</td>\n      <td>1723</td>\n      <td>1724</td>\n      <td>1726.0</td>\n      <td>1727</td>\n    </tr>\n    <tr>\n      <th>4</th>\n      <td>394514</td>\n      <td>Dallas-Fort Worth, TX</td>\n      <td>4</td>\n      <td>1211.0</td>\n      <td>1216</td>\n      <td>1222</td>\n      <td>1228</td>\n      <td>1234</td>\n      <td>1239</td>\n      <td>1245.0</td>\n      <td>...</td>\n      <td>1527</td>\n      <td>1530</td>\n      <td>1533</td>\n      <td>1535</td>\n      <td>1537</td>\n      <td>1539</td>\n      <td>1542</td>\n      <td>1544</td>\n      <td>1546.0</td>\n      <td>1548</td>\n    </tr>\n    <tr>\n      <th>...</th>\n      <td>...</td>\n      <td>...</td>\n      <td>...</td>\n      <td>...</td>\n      <td>...</td>\n      <td>...</td>\n      <td>...</td>\n      <td>...</td>\n      <td>...</td>\n      <td>...</td>\n      <td>...</td>\n      <td>...</td>\n      <td>...</td>\n      <td>...</td>\n      <td>...</td>\n      <td>...</td>\n      <td>...</td>\n      <td>...</td>\n      <td>...</td>\n      <td>...</td>\n      <td>...</td>\n    </tr>\n    <tr>\n      <th>101</th>\n      <td>394995</td>\n      <td>Port St. Lucie, FL</td>\n      <td>119</td>\n      <td>1147.0</td>\n      <td>1155</td>\n      <td>1162</td>\n      <td>1170</td>\n      <td>1177</td>\n      <td>1184</td>\n      <td>1191.0</td>\n      <td>...</td>\n      <td>1588</td>\n      <td>1595</td>\n      <td>1602</td>\n      <td>1609</td>\n      <td>1616</td>\n      <td>1623</td>\n      <td>1631</td>\n      <td>1638</td>\n      <td>1645.0</td>\n      <td>1652</td>\n    </tr>\n    <tr>\n      <th>102</th>\n      <td>394602</td>\n      <td>Fort Collins, CO</td>\n      <td>159</td>\n      <td>1216.0</td>\n      <td>1228</td>\n      <td>1240</td>\n      <td>1251</td>\n      <td>1263</td>\n      <td>1274</td>\n      <td>1286.0</td>\n      <td>...</td>\n      <td>1574</td>\n      <td>1576</td>\n      <td>1578</td>\n      <td>1580</td>\n      <td>1582</td>\n      <td>1584</td>\n      <td>1586</td>\n      <td>1587</td>\n      <td>1589.0</td>\n      <td>1591</td>\n    </tr>\n    <tr>\n      <th>103</th>\n      <td>394405</td>\n      <td>Boulder, CO</td>\n      <td>162</td>\n      <td>1515.0</td>\n      <td>1525</td>\n      <td>1535</td>\n      <td>1544</td>\n      <td>1554</td>\n      <td>1564</td>\n      <td>1573.0</td>\n      <td>...</td>\n      <td>1960</td>\n      <td>1964</td>\n      <td>1966</td>\n      <td>1968</td>\n      <td>1970</td>\n      <td>1972</td>\n      <td>1974</td>\n      <td>1976</td>\n      <td>1977.0</td>\n      <td>1979</td>\n    </tr>\n    <tr>\n      <th>104</th>\n      <td>394645</td>\n      <td>Greeley, CO</td>\n      <td>177</td>\n      <td>1309.0</td>\n      <td>1318</td>\n      <td>1327</td>\n      <td>1335</td>\n      <td>1344</td>\n      <td>1353</td>\n      <td>1362.0</td>\n      <td>...</td>\n      <td>1719</td>\n      <td>1721</td>\n      <td>1723</td>\n      <td>1725</td>\n      <td>1727</td>\n      <td>1729</td>\n      <td>1731</td>\n      <td>1734</td>\n      <td>1736.0</td>\n      <td>1738</td>\n    </tr>\n    <tr>\n      <th>105</th>\n      <td>394623</td>\n      <td>Gainesville, GA</td>\n      <td>229</td>\n      <td>954.0</td>\n      <td>959</td>\n      <td>963</td>\n      <td>967</td>\n      <td>971</td>\n      <td>976</td>\n      <td>980.0</td>\n      <td>...</td>\n      <td>1324</td>\n      <td>1326</td>\n      <td>1328</td>\n      <td>1330</td>\n      <td>1332</td>\n      <td>1334</td>\n      <td>1336</td>\n      <td>1338</td>\n      <td>1339.0</td>\n      <td>1341</td>\n    </tr>\n  </tbody>\n</table>\n<p>106 rows × 81 columns</p>\n</div>"
     },
     "metadata": {},
     "execution_count": 3
    }
   ],
   "source": [
    "rentals = pd.read_csv(\"rentals.csv\")\n",
    "\n",
    "rentals"
   ]
  },
  {
   "cell_type": "code",
   "execution_count": 6,
   "metadata": {
    "tags": []
   },
   "outputs": [
    {
     "output_type": "stream",
     "name": "stdout",
     "text": "37.09024 -95.712891 1\n40.7127753 -74.0059728 2\n34.0522166 -118.2436619 3\n41.8781136 -87.6297982 4\n32.7078751 -96.9209135 5\n39.9525839 -75.1652215 6\n29.7604267 -95.3698028 7\n38.9071923 -77.0368707 8\n26.0742344 -80.1506022 9\n33.7489954 -84.3879824 10\n42.3600825 -71.0588801 11\n37.7749295 -122.4194155 12\n42.331427 -83.0457538 13\n33.9806005 -117.3754942 14\n33.4483771 -112.0740373 15\n47.6062095 -122.3320708 16\n44.9374831 -93.20099979999999 17\n32.715738 -117.1610838 18\n38.6270025 -90.19940419999999 19\n27.950575 -82.4571776 20\n39.2903848 -76.6121893 21\n39.7392358 -104.990251 22\n40.44062479999999 -79.9958864 23\n45.5051064 -122.6750261 24\n35.2270869 -80.8431267 25\n38.5815719 -121.4943996 26\n29.4241219 -98.49362819999999 27\n28.5383355 -81.3792365 28\n39.1031182 -84.5120196 29\n41.49932 -81.6943605 30\n39.0997265 -94.5785667 31\n36.1699412 -115.1398296 32\n39.9611755 -82.99879419999999 33\n39.768403 -86.158068 34\n37.3382082 -121.8863286 35\n30.267153 -97.7430608 36\n36.8529263 -75.97798499999999 37\n36.1626638 -86.7816016 38\n41.8239891 -71.4128343 39\n43.0389025 -87.9064736 40\n30.3321838 -81.65565099999999 41\n35.1495343 -90.0489801 42\n35.4675602 -97.5164276 43\n38.2526647 -85.7584557 44\n41.7658043 -72.6733723 45\n37.5407246 -77.4360481 46\n29.95106579999999 -90.0715323 47\n42.88644679999999 -78.8783689 48\n35.7795897 -78.6381787 49\n33.5185892 -86.8103567 50\n40.7607793 -111.8910474 51\n43.15657789999999 -77.6088465 52\n42.9633599 -85.6680863 53\n32.2226066 -110.9747108 54\n21.2765308 -157.8257819 55\n36.1539816 -95.99277500000001 56\n36.7377981 -119.7871247 57\n42.2625932 -71.8022934 58\n41.0534302 -73.5387341 59\n35.0843859 -106.650422 60\n42.6525793 -73.7562317 61\n41.2565369 -95.9345034 62\n41.308274 -72.9278835 63\n35.3732921 -119.0187125 64\n35.9606384 -83.9207392 65\n34.85261759999999 -82.3940104 66\n34.2804923 -119.2945199 67\n40.6022939 -75.4714098 68\n31.7618778 -106.4850217 69\n30.4514677 -91.18714659999999 70\n39.7589478 -84.1916069 71\n34.0007104 -81.0348144 72\n36.0726354 -79.7919754 73\n41.0814447 -81.51900529999999 74\n27.3959334 -82.5185837 75\n34.7464809 -92.28959479999999 76\n37.9577016 -121.2907796 77\n32.7764749 -79.93105120000001 78\n43.0481221 -76.14742439999999 79\n38.8338816 -104.8213634 80\n36.09985959999999 -80.244216 81\n37.68717609999999 -97.33005299999999 82\n42.1014831 -72.589811 83\n26.640628 -81.8723084 84\n43.6150186 -116.2023137 85\n41.6528052 -83.5378674 86\n43.0730517 -89.4012302 87\n28.0394654 -81.9498042 88\n41.223 -111.9738304 89\n29.2108147 -81.0228331 90\n41.5868353 -93.6249593 91\n32.2987573 -90.1848103 92\n41.0997803 -80.6495194 93\n33.4734978 -82.0105148 94\n41.408969 -75.66241219999999 95\n40.2731911 -76.8867008 96\n28.0836269 -80.60810889999999 97\n35.0456297 -85.3096801 98\n47.6587802 -117.4260465 99\n40.2338438 -111.6585337 100\n35.9940329 -78.898619 101\n27.2730492 -80.3582261 102\n40.5852602 -105.084423 103\n40.0149856 -105.2705456 104\n40.4233142 -104.7091322 105\n34.2978794 -83.8240663 106\n"
    }
   ],
   "source": [
    "\n",
    "rentals[\"lat\"] = \"\"\n",
    "rentals[\"lng\"] = \"\"\n",
    "\n",
    "params = {\"key\": gkey}\n",
    "\n",
    "counter = 0\n",
    "for index, row in rentals.iterrows():\n",
    "    base_url = \"https://maps.googleapis.com/maps/api/geocode/json?\"\n",
    "\n",
    "    this = row[\"RegionName\"]\n",
    "    params[\"address\"] = this\n",
    "    \n",
    "    query = requests.get(base_url, params=params)\n",
    "    data = query.json()\n",
    "    \n",
    "    try:\n",
    "        lat = data[\"results\"][0][\"geometry\"][\"location\"][\"lat\"]\n",
    "        lng = data[\"results\"][0][\"geometry\"][\"location\"][\"lng\"]\n",
    "        \n",
    "        rentals.loc[index, \"lat\"] = lat\n",
    "        rentals.loc[index, \"lng\"] = lng\n",
    "\n",
    "    except:\n",
    "        print(\"!!!!!!!!!!!!!!!!!!!!!!!!!!!!!!!!!!!!!!!!!!!!!!!!!!Character not found\")\n",
    "        pass\n",
    "    \n",
    "    counter = counter + 1\n",
    "  \n",
    "    print(lat, lng, counter)\n",
    "    \n"
   ]
  },
  {
   "cell_type": "code",
   "execution_count": 8,
   "metadata": {},
   "outputs": [],
   "source": [
    "rentals= rentals[[\"RegionName\",  \"2019-01\", \"2019-02\", \"2019-03\",\"2019-04\",\"2019-05\",\"2019-06\", \"2019-07\",\"2019-08\", \"2019-09\", \"2019-10\", \"2019-11\", \"2019-12\", \"2020-01\", \"2020-02\", \"2020-03\", \"2020-04\", \"2020-05\", \"lat\", \"lng\"]]\n",
    " \n",
    "rentals = rentals.drop(rentals.index[0])\n",
    " \n",
    "rentals.to_csv(\"rentals_latlng.csv\", sep=\"\\t\")\n"
   ]
  },
  {
   "cell_type": "code",
   "execution_count": 10,
   "metadata": {
    "tags": []
   },
   "outputs": [
    {
     "output_type": "stream",
     "name": "stdout",
     "text": "['<option value=\"New York, NY\">New York, NY</option>', '<option value=\"Los Angeles-Long Beach-Anaheim, CA\">Los Angeles-Long Beach-Anaheim, CA</option>', '<option value=\"Chicago, IL\">Chicago, IL</option>', '<option value=\"Dallas-Fort Worth, TX\">Dallas-Fort Worth, TX</option>', '<option value=\"Philadelphia, PA\">Philadelphia, PA</option>', '<option value=\"Houston, TX\">Houston, TX</option>', '<option value=\"Washington, DC\">Washington, DC</option>', '<option value=\"Miami-Fort Lauderdale, FL\">Miami-Fort Lauderdale, FL</option>', '<option value=\"Atlanta, GA\">Atlanta, GA</option>', '<option value=\"Boston, MA\">Boston, MA</option>', '<option value=\"San Francisco, CA\">San Francisco, CA</option>', '<option value=\"Detroit, MI\">Detroit, MI</option>', '<option value=\"Riverside, CA\">Riverside, CA</option>', '<option value=\"Phoenix, AZ\">Phoenix, AZ</option>', '<option value=\"Seattle, WA\">Seattle, WA</option>', '<option value=\"Minneapolis-St Paul, MN\">Minneapolis-St Paul, MN</option>', '<option value=\"San Diego, CA\">San Diego, CA</option>', '<option value=\"St. Louis, MO\">St. Louis, MO</option>', '<option value=\"Tampa, FL\">Tampa, FL</option>', '<option value=\"Baltimore, MD\">Baltimore, MD</option>', '<option value=\"Denver, CO\">Denver, CO</option>', '<option value=\"Pittsburgh, PA\">Pittsburgh, PA</option>', '<option value=\"Portland, OR\">Portland, OR</option>', '<option value=\"Charlotte, NC\">Charlotte, NC</option>', '<option value=\"Sacramento, CA\">Sacramento, CA</option>', '<option value=\"San Antonio, TX\">San Antonio, TX</option>', '<option value=\"Orlando, FL\">Orlando, FL</option>', '<option value=\"Cincinnati, OH\">Cincinnati, OH</option>', '<option value=\"Cleveland, OH\">Cleveland, OH</option>', '<option value=\"Kansas City, MO\">Kansas City, MO</option>', '<option value=\"Las Vegas, NV\">Las Vegas, NV</option>', '<option value=\"Columbus, OH\">Columbus, OH</option>', '<option value=\"Indianapolis, IN\">Indianapolis, IN</option>', '<option value=\"San Jose, CA\">San Jose, CA</option>', '<option value=\"Austin, TX\">Austin, TX</option>', '<option value=\"Virginia Beach, VA\">Virginia Beach, VA</option>', '<option value=\"Nashville, TN\">Nashville, TN</option>', '<option value=\"Providence, RI\">Providence, RI</option>', '<option value=\"Milwaukee, WI\">Milwaukee, WI</option>', '<option value=\"Jacksonville, FL\">Jacksonville, FL</option>', '<option value=\"Memphis, TN\">Memphis, TN</option>', '<option value=\"Oklahoma City, OK\">Oklahoma City, OK</option>', '<option value=\"Louisville-Jefferson County, KY\">Louisville-Jefferson County, KY</option>', '<option value=\"Hartford, CT\">Hartford, CT</option>', '<option value=\"Richmond, VA\">Richmond, VA</option>', '<option value=\"New Orleans, LA\">New Orleans, LA</option>', '<option value=\"Buffalo, NY\">Buffalo, NY</option>', '<option value=\"Raleigh, NC\">Raleigh, NC</option>', '<option value=\"Birmingham, AL\">Birmingham, AL</option>', '<option value=\"Salt Lake City, UT\">Salt Lake City, UT</option>', '<option value=\"Rochester, NY\">Rochester, NY</option>', '<option value=\"Grand Rapids, MI\">Grand Rapids, MI</option>', '<option value=\"Tucson, AZ\">Tucson, AZ</option>', '<option value=\"Urban Honolulu, HI\">Urban Honolulu, HI</option>', '<option value=\"Tulsa, OK\">Tulsa, OK</option>', '<option value=\"Fresno, CA\">Fresno, CA</option>', '<option value=\"Worcester, MA\">Worcester, MA</option>', '<option value=\"Stamford, CT\">Stamford, CT</option>', '<option value=\"Albuquerque, NM\">Albuquerque, NM</option>', '<option value=\"Albany, NY\">Albany, NY</option>', '<option value=\"Omaha, NE\">Omaha, NE</option>', '<option value=\"New Haven, CT\">New Haven, CT</option>', '<option value=\"Bakersfield, CA\">Bakersfield, CA</option>', '<option value=\"Knoxville, TN\">Knoxville, TN</option>', '<option value=\"Greenville, SC\">Greenville, SC</option>', '<option value=\"Ventura, CA\">Ventura, CA</option>', '<option value=\"Allentown, PA\">Allentown, PA</option>', '<option value=\"El Paso, TX\">El Paso, TX</option>', '<option value=\"Baton Rouge, LA\">Baton Rouge, LA</option>', '<option value=\"Dayton, OH\">Dayton, OH</option>', '<option value=\"Columbia, SC\">Columbia, SC</option>', '<option value=\"Greensboro, NC\">Greensboro, NC</option>', '<option value=\"Akron, OH\">Akron, OH</option>', '<option value=\"North Port-Sarasota-Bradenton, FL\">North Port-Sarasota-Bradenton, FL</option>', '<option value=\"Little Rock, AR\">Little Rock, AR</option>', '<option value=\"Stockton, CA\">Stockton, CA</option>', '<option value=\"Charleston, SC\">Charleston, SC</option>', '<option value=\"Syracuse, NY\">Syracuse, NY</option>', '<option value=\"Colorado Springs, CO\">Colorado Springs, CO</option>', '<option value=\"Winston-Salem, NC\">Winston-Salem, NC</option>', '<option value=\"Wichita, KS\">Wichita, KS</option>', '<option value=\"Springfield, MA\">Springfield, MA</option>', '<option value=\"Fort Myers, FL\">Fort Myers, FL</option>', '<option value=\"Boise City, ID\">Boise City, ID</option>', '<option value=\"Toledo, OH\">Toledo, OH</option>', '<option value=\"Madison, WI\">Madison, WI</option>', '<option value=\"Lakeland, FL\">Lakeland, FL</option>', '<option value=\"Ogden, UT\">Ogden, UT</option>', '<option value=\"Daytona Beach, FL\">Daytona Beach, FL</option>', '<option value=\"Des Moines, IA\">Des Moines, IA</option>', '<option value=\"Jackson, MS\">Jackson, MS</option>', '<option value=\"Youngstown, OH\">Youngstown, OH</option>', '<option value=\"Augusta, GA\">Augusta, GA</option>', '<option value=\"Scranton, PA\">Scranton, PA</option>', '<option value=\"Harrisburg, PA\">Harrisburg, PA</option>', '<option value=\"Melbourne, FL\">Melbourne, FL</option>', '<option value=\"Chattanooga, TN\">Chattanooga, TN</option>', '<option value=\"Spokane, WA\">Spokane, WA</option>', '<option value=\"Provo, UT\">Provo, UT</option>', '<option value=\"Durham, NC\">Durham, NC</option>', '<option value=\"Port St. Lucie, FL\">Port St. Lucie, FL</option>', '<option value=\"Fort Collins, CO\">Fort Collins, CO</option>', '<option value=\"Boulder, CO\">Boulder, CO</option>', '<option value=\"Greeley, CO\">Greeley, CO</option>', '<option value=\"Gainesville, GA\">Gainesville, GA</option>']\n"
    }
   ],
   "source": [
    "regions = []\n",
    "for row in rentals[\"RegionName\"]:\n",
    "    regions.append(f'<option value=\"{row}\">{row}</option>')\n",
    "print(regions)"
   ]
  },
  {
   "cell_type": "code",
   "execution_count": 12,
   "metadata": {},
   "outputs": [],
   "source": [
    "regions = pd.DataFrame(regions)\n",
    "\n",
    "regions.to_csv(\"rentalnames.csv\", index=False)"
   ]
  },
  {
   "cell_type": "code",
   "execution_count": null,
   "metadata": {},
   "outputs": [],
   "source": []
  }
 ],
 "metadata": {
  "language_info": {
   "codemirror_mode": {
    "name": "ipython",
    "version": 3
   },
   "file_extension": ".py",
   "mimetype": "text/x-python",
   "name": "python",
   "nbconvert_exporter": "python",
   "pygments_lexer": "ipython3",
   "version": "3.7.7-final"
  },
  "orig_nbformat": 2,
  "kernelspec": {
   "name": "python37764bithunterconda3a4e22e4b5e344de9bcd2fc46130e7b9",
   "display_name": "Python 3.7.7 64-bit ('hunter': conda)"
  }
 },
 "nbformat": 4,
 "nbformat_minor": 2
}