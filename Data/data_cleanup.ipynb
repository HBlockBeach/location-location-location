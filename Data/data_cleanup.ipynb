{
 "cells": [
  {
   "cell_type": "code",
   "execution_count": 52,
   "metadata": {
    "tags": []
   },
   "outputs": [
    {
     "output_type": "stream",
     "name": "stdout",
     "text": "['/Users/hunterblock/Documents/location-location-location/income_data/white-women-16-24.xlsx', '/Users/hunterblock/Documents/location-location-location/income_data/black-women-55.xlsx', '/Users/hunterblock/Documents/location-location-location/income_data/black-men-16-24.xlsx', '/Users/hunterblock/Documents/location-location-location/income_data/black-women-25-54.xlsx', '/Users/hunterblock/Documents/location-location-location/income_data/black-men-55.xlsx', '/Users/hunterblock/Documents/location-location-location/income_data/asian-men-55.xlsx', '/Users/hunterblock/Documents/location-location-location/income_data/white-men-25-54.xlsx', '/Users/hunterblock/Documents/location-location-location/income_data/hispanic-women-25-54.xlsx', '/Users/hunterblock/Documents/location-location-location/income_data/white-women-55.xlsx', '/Users/hunterblock/Documents/location-location-location/income_data/hispanic-men-16-24.xlsx', '/Users/hunterblock/Documents/location-location-location/income_data/asian-women-16-24.xlsx', '/Users/hunterblock/Documents/location-location-location/income_data/asian-men-16-24.xlsx', '/Users/hunterblock/Documents/location-location-location/income_data/black-women-16-24.xlsx', '/Users/hunterblock/Documents/location-location-location/income_data/white-women-25-54.xlsx', '/Users/hunterblock/Documents/location-location-location/income_data/black-men-25-54.xlsx', '/Users/hunterblock/Documents/location-location-location/income_data/white-men-55.xlsx', '/Users/hunterblock/Documents/location-location-location/income_data/hispanic-men-55.xlsx', '/Users/hunterblock/Documents/location-location-location/income_data/asian-women-55.xlsx', '/Users/hunterblock/Documents/location-location-location/income_data/hispanic-women-55.xlsx', '/Users/hunterblock/Documents/location-location-location/income_data/white-men-16-24.xlsx', '/Users/hunterblock/Documents/location-location-location/income_data/asian-men-25-54.xlsx', '/Users/hunterblock/Documents/location-location-location/income_data/hispanic-women-16-24.xlsx', '/Users/hunterblock/Documents/location-location-location/income_data/asian-women-25-54.xlsx', '/Users/hunterblock/Documents/location-location-location/income_data/hispanic-men-25-54.xlsx']\n"
    }
   ],
   "source": [
    "import pandas as pd\n",
    "import os\n",
    "\n",
    "directory = r'/Users/hunterblock/Documents/location-location-location/income_data'\n",
    "files = []\n",
    "for filename in os.listdir(directory):\n",
    "    if filename.endswith(\".xlsx\") :\n",
    "        files.append(os.path.join(directory, filename))\n",
    "    else:\n",
    "        continue\n",
    "\n",
    "print(files)"
   ]
  },
  {
   "cell_type": "code",
   "execution_count": null,
   "metadata": {},
   "outputs": [],
   "source": []
  },
  {
   "cell_type": "code",
   "execution_count": 53,
   "metadata": {
    "tags": []
   },
   "outputs": [],
   "source": [
    "for row in files:\n",
    "    df = pd.read_excel(row)\n",
    "    "
   ]
  },
  {
   "cell_type": "code",
   "execution_count": null,
   "metadata": {},
   "outputs": [],
   "source": []
  },
  {
   "cell_type": "code",
   "execution_count": 73,
   "metadata": {},
   "outputs": [
    {
     "output_type": "error",
     "ename": "AttributeError",
     "evalue": "'str' object has no attribute 'str'",
     "traceback": [
      "\u001b[0;31m---------------------------------------------------------------------------\u001b[0m",
      "\u001b[0;31mAttributeError\u001b[0m                            Traceback (most recent call last)",
      "\u001b[0;32m<ipython-input-73-4959bd1bdfeb>\u001b[0m in \u001b[0;36m<module>\u001b[0;34m\u001b[0m\n\u001b[1;32m     13\u001b[0m \u001b[0msplit\u001b[0m \u001b[0;34m=\u001b[0m \u001b[0;34m\"/Users/hunterblock/Documents/location-location-location/income_data/white-women-16-24.xlsx\"\u001b[0m\u001b[0;34m\u001b[0m\u001b[0;34m\u001b[0m\u001b[0m\n\u001b[1;32m     14\u001b[0m \u001b[0;34m\u001b[0m\u001b[0m\n\u001b[0;32m---> 15\u001b[0;31m \u001b[0msplit1\u001b[0m \u001b[0;34m=\u001b[0m \u001b[0msplit\u001b[0m\u001b[0;34m.\u001b[0m\u001b[0mstr\u001b[0m\u001b[0;34m.\u001b[0m\u001b[0msplit\u001b[0m\u001b[0;34m(\u001b[0m\u001b[0mpat\u001b[0m \u001b[0;34m=\u001b[0m \u001b[0;34m\"/\"\u001b[0m\u001b[0;34m)\u001b[0m\u001b[0;34m\u001b[0m\u001b[0;34m\u001b[0m\u001b[0m\n\u001b[0m\u001b[1;32m     16\u001b[0m \u001b[0msplit1\u001b[0m\u001b[0;34m\u001b[0m\u001b[0;34m\u001b[0m\u001b[0m\n\u001b[1;32m     17\u001b[0m \u001b[0;31m#dfe\u001b[0m\u001b[0;34m\u001b[0m\u001b[0;34m\u001b[0m\u001b[0;34m\u001b[0m\u001b[0m\n",
      "\u001b[0;31mAttributeError\u001b[0m: 'str' object has no attribute 'str'"
     ]
    }
   ],
   "source": [
    "dfe = pd.read_excel(\"/Users/hunterblock/Documents/location-location-location/income_data/white-women-16-24.xlsx\", header=18)\n",
    "\n",
    "new_header = dfe.iloc[0] #grab the first row for the header\n",
    "dfe = dfe[1:] #take the data less the header row\n",
    "dfe.columns = new_header #set the header row as the df header\n",
    "\n",
    "dfe = dfe.iloc[:,:-1]\n",
    "\n",
    "dfe[\"race\"] = \"\"\n",
    "dfe[\"sex\"] = \"\"\n",
    "dfe[\"age_range\"] = \"\"\n",
    "\n",
    "split = \"/Users/hunterblock/Documents/location-location-location/income_data/white-women-16-24.xlsx\"\n",
    "\n",
    "split1 = split.str.split(pat = \"/\")\n",
    "split1\n",
    "#dfe"
   ]
  }
 ],
 "metadata": {
  "language_info": {
   "codemirror_mode": {
    "name": "ipython",
    "version": 3
   },
   "file_extension": ".py",
   "mimetype": "text/x-python",
   "name": "python",
   "nbconvert_exporter": "python",
   "pygments_lexer": "ipython3",
   "version": "3.7.7-final"
  },
  "orig_nbformat": 2,
  "kernelspec": {
   "name": "python37764bithunterconda3a4e22e4b5e344de9bcd2fc46130e7b9",
   "display_name": "Python 3.7.7 64-bit ('hunter': conda)"
  }
 },
 "nbformat": 4,
 "nbformat_minor": 2
}