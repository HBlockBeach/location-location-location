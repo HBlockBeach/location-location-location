{
 "cells": [
  {
   "cell_type": "code",
   "execution_count": 1,
   "metadata": {
    "tags": []
   },
   "outputs": [
    {
     "output_type": "stream",
     "name": "stdout",
     "text": "['/Users/hunterblock/Documents/location-location-location/income_data/white-women-16-24.xlsx', '/Users/hunterblock/Documents/location-location-location/income_data/black-women-55.xlsx', '/Users/hunterblock/Documents/location-location-location/income_data/black-men-16-24.xlsx', '/Users/hunterblock/Documents/location-location-location/income_data/black-women-25-54.xlsx', '/Users/hunterblock/Documents/location-location-location/income_data/black-men-55.xlsx', '/Users/hunterblock/Documents/location-location-location/income_data/asian-men-55.xlsx', '/Users/hunterblock/Documents/location-location-location/income_data/white-men-25-54.xlsx', '/Users/hunterblock/Documents/location-location-location/income_data/hispanic-women-25-54.xlsx', '/Users/hunterblock/Documents/location-location-location/income_data/white-women-55.xlsx', '/Users/hunterblock/Documents/location-location-location/income_data/hispanic-men-16-24.xlsx', '/Users/hunterblock/Documents/location-location-location/income_data/asian-women-16-24.xlsx', '/Users/hunterblock/Documents/location-location-location/income_data/asian-men-16-24.xlsx', '/Users/hunterblock/Documents/location-location-location/income_data/black-women-16-24.xlsx', '/Users/hunterblock/Documents/location-location-location/income_data/white-women-25-54.xlsx', '/Users/hunterblock/Documents/location-location-location/income_data/black-men-25-54.xlsx', '/Users/hunterblock/Documents/location-location-location/income_data/white-men-55.xlsx', '/Users/hunterblock/Documents/location-location-location/income_data/hispanic-men-55.xlsx', '/Users/hunterblock/Documents/location-location-location/income_data/asian-women-55.xlsx', '/Users/hunterblock/Documents/location-location-location/income_data/hispanic-women-55.xlsx', '/Users/hunterblock/Documents/location-location-location/income_data/white-men-16-24.xlsx', '/Users/hunterblock/Documents/location-location-location/income_data/asian-men-25-54.xlsx', '/Users/hunterblock/Documents/location-location-location/income_data/hispanic-women-16-24.xlsx', '/Users/hunterblock/Documents/location-location-location/income_data/asian-women-25-54.xlsx', '/Users/hunterblock/Documents/location-location-location/income_data/hispanic-men-25-54.xlsx']\n"
    }
   ],
   "source": [
    "import pandas as pd\n",
    "import os\n",
    "\n",
    "directory = r'/Users/hunterblock/Documents/location-location-location/income_data'\n",
    "files = []\n",
    "for filename in os.listdir(directory):\n",
    "    if filename.endswith(\".xlsx\") :\n",
    "        files.append(os.path.join(directory, filename))\n",
    "    else:\n",
    "        continue\n",
    "\n",
    "print(files)"
   ]
  },
  {
   "cell_type": "code",
   "execution_count": 2,
   "metadata": {
    "tags": []
   },
   "outputs": [],
   "source": [
    "total_data = pd.DataFrame()\n",
    "\n",
    "for row in files:\n",
    "    df = pd.read_excel(row, header=18)\n",
    "    new_header = df.iloc[0] #grab the first row for the header\n",
    "    df = df[1:] #take the data less the header row\n",
    "    df.columns = new_header #set the header row as the df header\n",
    "\n",
    "    df = df.iloc[:,:-1]\n",
    "\n",
    "    df[\"race\"] = \"\"\n",
    "    df[\"sex\"] = \"\"\n",
    "    df[\"age_range\"] = \"\"\n",
    "\n",
    "    split = pd.Series(row).str.split(pat=\"/\", expand=True)\n",
    "    filename= split[6]\n",
    "\n",
    "    rowsplit = filename.str.split(pat=\"-\", expand=True)\n",
    "    age = rowsplit[2].str.split(pat=\".\", expand=True)\n",
    "\n",
    "    demos = pd.DataFrame()\n",
    "    demos[\"race\"] = rowsplit[0]\n",
    "    demos[\"sex\"] = rowsplit[1]\n",
    "    demos[\"age_range\"] = age[0]\n",
    "\n",
    "    df[\"race\"] = demos[\"race\"][0]\n",
    "    df[\"sex\"] = demos[\"sex\"][0]\n",
    "    df[\"age_range\"] = demos[\"age_range\"][0]\n",
    "    \n",
    "    total_data = total_data.append(df)\n"
   ]
  },
  {
   "cell_type": "code",
   "execution_count": 3,
   "metadata": {},
   "outputs": [],
   "source": [
    "total_data.replace(\"16\", \"16-24\", inplace=True)\n",
    "total_data.replace(\"25\", \"25-54\", inplace=True)\n",
    "total_data.replace(\"55\", \"55+\", inplace=True)\n",
    "\n",
    "total_data.to_csv(\"combined_data.csv\")"
   ]
  },
  {
   "cell_type": "code",
   "execution_count": 4,
   "metadata": {},
   "outputs": [],
   "source": [
    "#import os\n",
    "#from flask_sqlalchemy import SQLAlchemy \n",
    "#from flask import Flask, jsonify, render_template, request\n",
    "#import sqlalchemy\n",
    "#from sqlalchemy import create_engine, func\n",
    "#from sqlalchemy.orm import Session\n",
    "#from sqlalchemy.ext.automap import automap_base\n",
    "\n",
    "\n",
    "\n",
    "\n",
    "import psycopg2\n",
    "connection = psycopg2.connect(\n",
    "    host = 'housingdb.cxrqyy0s90my.us-east-2.rds.amazonaws.com',\n",
    "    port = 5432,\n",
    "    user = 'root',\n",
    "    password = 'ClassProject3718',\n",
    "    database='housing'\n",
    "    )\n",
    "cursor=connection.cursor()"
   ]
  },
  {
   "cell_type": "code",
   "execution_count": 19,
   "metadata": {},
   "outputs": [
    {
     "output_type": "execute_result",
     "data": {
      "text/plain": "                                                    index  \\\nRegionName                                                  \nNew York, NY                                   ...      1   \nLos Angeles-Long Beach-Anaheim, CA             ...      2   \nChicago, IL                                    ...      3   \nDallas-Fort Worth, TX                          ...      4   \nPhiladelphia, PA                               ...      5   \n...                                                   ...   \nWinnemucca, NV                                 ...    882   \nSweetwater, TX                                 ...    883   \nVermillion, SD                                 ...    884   \nCraig, CO                                      ...    885   \nKetchikan, AK                                  ...    886   \n\n                                                                                            StateName  \\\nRegionName                                                                                              \nNew York, NY                                   ...  NY                                            ...   \nLos Angeles-Long Beach-Anaheim, CA             ...  CA                                            ...   \nChicago, IL                                    ...  IL                                            ...   \nDallas-Fort Worth, TX                          ...  TX                                            ...   \nPhiladelphia, PA                               ...  PA                                            ...   \n...                                                                                               ...   \nWinnemucca, NV                                 ...  NV                                            ...   \nSweetwater, TX                                 ...  TX                                            ...   \nVermillion, SD                                 ...  SD                                            ...   \nCraig, CO                                      ...  CO                                            ...   \nKetchikan, AK                                  ...  AK                                            ...   \n\n                                                    01-31-2019  02-28-2019  \\\nRegionName                                                                   \nNew York, NY                                   ...      407447      407019   \nLos Angeles-Long Beach-Anaheim, CA             ...      440153      437943   \nChicago, IL                                    ...      168749      168423   \nDallas-Fort Worth, TX                          ...      132371      133585   \nPhiladelphia, PA                               ...      175429      175718   \n...                                                        ...         ...   \nWinnemucca, NV                                 ...      133006      132580   \nSweetwater, TX                                 ...       62318       62815   \nVermillion, SD                                 ...       86779       86609   \nCraig, CO                                      ...       94659       94153   \nKetchikan, AK                                  ...       79201       79341   \n\n                                                    03-31-2019  04-30-2019  \\\nRegionName                                                                   \nNew York, NY                                   ...      407071      407150   \nLos Angeles-Long Beach-Anaheim, CA             ...      435940      434797   \nChicago, IL                                    ...      168371      168805   \nDallas-Fort Worth, TX                          ...      134149      134498   \nPhiladelphia, PA                               ...      176163      176421   \n...                                                        ...         ...   \nWinnemucca, NV                                 ...      133015      132434   \nSweetwater, TX                                 ...       63456       64419   \nVermillion, SD                                 ...       86650       86559   \nCraig, CO                                      ...       94296       93755   \nKetchikan, AK                                  ...       79382       79509   \n\n                                                    05-31-2019  06-30-2019  \\\nRegionName                                                                   \nNew York, NY                                   ...      407594      408095   \nLos Angeles-Long Beach-Anaheim, CA             ...      436126      438087   \nChicago, IL                                    ...      169229      169512   \nDallas-Fort Worth, TX                          ...      134554      134902   \nPhiladelphia, PA                               ...      176746      176952   \n...                                                        ...         ...   \nWinnemucca, NV                                 ...      132356      131694   \nSweetwater, TX                                 ...       65573       66558   \nVermillion, SD                                 ...       87237       87759   \nCraig, CO                                      ...       93192       92076   \nKetchikan, AK                                  ...       79520       79628   \n\n                                                    07-31-2019  08-31-2019  \\\nRegionName                                                                   \nNew York, NY                                   ...      408854      409424   \nLos Angeles-Long Beach-Anaheim, CA             ...      439987      441012   \nChicago, IL                                    ...      169822      170042   \nDallas-Fort Worth, TX                          ...      135533      136286   \nPhiladelphia, PA                               ...      177336      177709   \n...                                                        ...         ...   \nWinnemucca, NV                                 ...      131632      131624   \nSweetwater, TX                                 ...       66801       66792   \nVermillion, SD                                 ...       88573       89033   \nCraig, CO                                      ...       91516       91229   \nKetchikan, AK                                  ...       79620       79787   \n\n                                                    ...  10-31-2019  \\\nRegionName                                          ...               \nNew York, NY                                   ...  ...      409332   \nLos Angeles-Long Beach-Anaheim, CA             ...  ...      444001   \nChicago, IL                                    ...  ...      170199   \nDallas-Fort Worth, TX                          ...  ...      138454   \nPhiladelphia, PA                               ...  ...      178334   \n...                                                 ...         ...   \nWinnemucca, NV                                 ...  ...      130841   \nSweetwater, TX                                 ...  ...       67941   \nVermillion, SD                                 ...  ...       89866   \nCraig, CO                                      ...  ...       90596   \nKetchikan, AK                                  ...  ...       80346   \n\n                                                    11-30-2019  12-31-2019  \\\nRegionName                                                                   \nNew York, NY                                   ...      409004      409178   \nLos Angeles-Long Beach-Anaheim, CA             ...      444895      446340   \nChicago, IL                                    ...      170190      170167   \nDallas-Fort Worth, TX                          ...      138840      137942   \nPhiladelphia, PA                               ...      178522      178764   \n...                                                        ...         ...   \nWinnemucca, NV                                 ...      129855      128791   \nSweetwater, TX                                 ...       68692       68847   \nVermillion, SD                                 ...       90285       90871   \nCraig, CO                                      ...       90033       89607   \nKetchikan, AK                                  ...       80497       80597   \n\n                                                    1-31-2020  2-29-2020  \\\nRegionName                                                                 \nNew York, NY                                   ...     409191     409330   \nLos Angeles-Long Beach-Anaheim, CA             ...     448009     450577   \nChicago, IL                                    ...     170346     170680   \nDallas-Fort Worth, TX                          ...     137709     137458   \nPhiladelphia, PA                               ...     179211     179647   \n...                                                       ...        ...   \nWinnemucca, NV                                 ...     127948     127555   \nSweetwater, TX                                 ...      68861      68623   \nVermillion, SD                                 ...      91417      92160   \nCraig, CO                                      ...      89539      89376   \nKetchikan, AK                                  ...      80635      80694   \n\n                                                    3-31-2020  04-30-2020  \\\nRegionName                                                                  \nNew York, NY                                   ...     408959      408789   \nLos Angeles-Long Beach-Anaheim, CA             ...     452598      453809   \nChicago, IL                                    ...     171020      171088   \nDallas-Fort Worth, TX                          ...     137785      138435   \nPhiladelphia, PA                               ...     179943      180412   \n...                                                       ...         ...   \nWinnemucca, NV                                 ...     126969      126778   \nSweetwater, TX                                 ...      68286       67272   \nVermillion, SD                                 ...      92678       93332   \nCraig, CO                                      ...      89059       89213   \nKetchikan, AK                                  ...      80727       80697   \n\n                                                    05-31-2020        lat  \\\nRegionName                                                                  \nNew York, NY                                   ...    408325.0  40.712775   \nLos Angeles-Long Beach-Anaheim, CA             ...    453018.0  34.052217   \nChicago, IL                                    ...    170954.0  41.878114   \nDallas-Fort Worth, TX                          ...    139288.0  32.707875   \nPhiladelphia, PA                               ...    180929.0  39.952584   \n...                                                        ...        ...   \nWinnemucca, NV                                 ...    126481.0  40.972958   \nSweetwater, TX                                 ...     66077.0  32.470952   \nVermillion, SD                                 ...     93398.0  42.779442   \nCraig, CO                                      ...     89744.0  40.515249   \nKetchikan, AK                                  ...     80789.0  55.342222   \n\n                                                           lng  \nRegionName                                                      \nNew York, NY                                   ...  -74.005973  \nLos Angeles-Long Beach-Anaheim, CA             ... -118.243662  \nChicago, IL                                    ...  -87.629798  \nDallas-Fort Worth, TX                          ...  -96.920913  \nPhiladelphia, PA                               ...  -75.165222  \n...                                                        ...  \nWinnemucca, NV                                 ... -117.735685  \nSweetwater, TX                                 ... -100.405938  \nVermillion, SD                                 ...  -96.929210  \nCraig, CO                                      ... -107.546454  \nKetchikan, AK                                  ... -131.646111  \n\n[886 rows x 21 columns]",
      "text/html": "<div>\n<style scoped>\n    .dataframe tbody tr th:only-of-type {\n        vertical-align: middle;\n    }\n\n    .dataframe tbody tr th {\n        vertical-align: top;\n    }\n\n    .dataframe thead th {\n        text-align: right;\n    }\n</style>\n<table border=\"1\" class=\"dataframe\">\n  <thead>\n    <tr style=\"text-align: right;\">\n      <th></th>\n      <th>index</th>\n      <th>StateName</th>\n      <th>01-31-2019</th>\n      <th>02-28-2019</th>\n      <th>03-31-2019</th>\n      <th>04-30-2019</th>\n      <th>05-31-2019</th>\n      <th>06-30-2019</th>\n      <th>07-31-2019</th>\n      <th>08-31-2019</th>\n      <th>...</th>\n      <th>10-31-2019</th>\n      <th>11-30-2019</th>\n      <th>12-31-2019</th>\n      <th>1-31-2020</th>\n      <th>2-29-2020</th>\n      <th>3-31-2020</th>\n      <th>04-30-2020</th>\n      <th>05-31-2020</th>\n      <th>lat</th>\n      <th>lng</th>\n    </tr>\n    <tr>\n      <th>RegionName</th>\n      <th></th>\n      <th></th>\n      <th></th>\n      <th></th>\n      <th></th>\n      <th></th>\n      <th></th>\n      <th></th>\n      <th></th>\n      <th></th>\n      <th></th>\n      <th></th>\n      <th></th>\n      <th></th>\n      <th></th>\n      <th></th>\n      <th></th>\n      <th></th>\n      <th></th>\n      <th></th>\n      <th></th>\n    </tr>\n  </thead>\n  <tbody>\n    <tr>\n      <th>New York, NY</th>\n      <td>1</td>\n      <td>NY                                            ...</td>\n      <td>407447</td>\n      <td>407019</td>\n      <td>407071</td>\n      <td>407150</td>\n      <td>407594</td>\n      <td>408095</td>\n      <td>408854</td>\n      <td>409424</td>\n      <td>...</td>\n      <td>409332</td>\n      <td>409004</td>\n      <td>409178</td>\n      <td>409191</td>\n      <td>409330</td>\n      <td>408959</td>\n      <td>408789</td>\n      <td>408325.0</td>\n      <td>40.712775</td>\n      <td>-74.005973</td>\n    </tr>\n    <tr>\n      <th>Los Angeles-Long Beach-Anaheim, CA</th>\n      <td>2</td>\n      <td>CA                                            ...</td>\n      <td>440153</td>\n      <td>437943</td>\n      <td>435940</td>\n      <td>434797</td>\n      <td>436126</td>\n      <td>438087</td>\n      <td>439987</td>\n      <td>441012</td>\n      <td>...</td>\n      <td>444001</td>\n      <td>444895</td>\n      <td>446340</td>\n      <td>448009</td>\n      <td>450577</td>\n      <td>452598</td>\n      <td>453809</td>\n      <td>453018.0</td>\n      <td>34.052217</td>\n      <td>-118.243662</td>\n    </tr>\n    <tr>\n      <th>Chicago, IL</th>\n      <td>3</td>\n      <td>IL                                            ...</td>\n      <td>168749</td>\n      <td>168423</td>\n      <td>168371</td>\n      <td>168805</td>\n      <td>169229</td>\n      <td>169512</td>\n      <td>169822</td>\n      <td>170042</td>\n      <td>...</td>\n      <td>170199</td>\n      <td>170190</td>\n      <td>170167</td>\n      <td>170346</td>\n      <td>170680</td>\n      <td>171020</td>\n      <td>171088</td>\n      <td>170954.0</td>\n      <td>41.878114</td>\n      <td>-87.629798</td>\n    </tr>\n    <tr>\n      <th>Dallas-Fort Worth, TX</th>\n      <td>4</td>\n      <td>TX                                            ...</td>\n      <td>132371</td>\n      <td>133585</td>\n      <td>134149</td>\n      <td>134498</td>\n      <td>134554</td>\n      <td>134902</td>\n      <td>135533</td>\n      <td>136286</td>\n      <td>...</td>\n      <td>138454</td>\n      <td>138840</td>\n      <td>137942</td>\n      <td>137709</td>\n      <td>137458</td>\n      <td>137785</td>\n      <td>138435</td>\n      <td>139288.0</td>\n      <td>32.707875</td>\n      <td>-96.920913</td>\n    </tr>\n    <tr>\n      <th>Philadelphia, PA</th>\n      <td>5</td>\n      <td>PA                                            ...</td>\n      <td>175429</td>\n      <td>175718</td>\n      <td>176163</td>\n      <td>176421</td>\n      <td>176746</td>\n      <td>176952</td>\n      <td>177336</td>\n      <td>177709</td>\n      <td>...</td>\n      <td>178334</td>\n      <td>178522</td>\n      <td>178764</td>\n      <td>179211</td>\n      <td>179647</td>\n      <td>179943</td>\n      <td>180412</td>\n      <td>180929.0</td>\n      <td>39.952584</td>\n      <td>-75.165222</td>\n    </tr>\n    <tr>\n      <th>...</th>\n      <td>...</td>\n      <td>...</td>\n      <td>...</td>\n      <td>...</td>\n      <td>...</td>\n      <td>...</td>\n      <td>...</td>\n      <td>...</td>\n      <td>...</td>\n      <td>...</td>\n      <td>...</td>\n      <td>...</td>\n      <td>...</td>\n      <td>...</td>\n      <td>...</td>\n      <td>...</td>\n      <td>...</td>\n      <td>...</td>\n      <td>...</td>\n      <td>...</td>\n      <td>...</td>\n    </tr>\n    <tr>\n      <th>Winnemucca, NV</th>\n      <td>882</td>\n      <td>NV                                            ...</td>\n      <td>133006</td>\n      <td>132580</td>\n      <td>133015</td>\n      <td>132434</td>\n      <td>132356</td>\n      <td>131694</td>\n      <td>131632</td>\n      <td>131624</td>\n      <td>...</td>\n      <td>130841</td>\n      <td>129855</td>\n      <td>128791</td>\n      <td>127948</td>\n      <td>127555</td>\n      <td>126969</td>\n      <td>126778</td>\n      <td>126481.0</td>\n      <td>40.972958</td>\n      <td>-117.735685</td>\n    </tr>\n    <tr>\n      <th>Sweetwater, TX</th>\n      <td>883</td>\n      <td>TX                                            ...</td>\n      <td>62318</td>\n      <td>62815</td>\n      <td>63456</td>\n      <td>64419</td>\n      <td>65573</td>\n      <td>66558</td>\n      <td>66801</td>\n      <td>66792</td>\n      <td>...</td>\n      <td>67941</td>\n      <td>68692</td>\n      <td>68847</td>\n      <td>68861</td>\n      <td>68623</td>\n      <td>68286</td>\n      <td>67272</td>\n      <td>66077.0</td>\n      <td>32.470952</td>\n      <td>-100.405938</td>\n    </tr>\n    <tr>\n      <th>Vermillion, SD</th>\n      <td>884</td>\n      <td>SD                                            ...</td>\n      <td>86779</td>\n      <td>86609</td>\n      <td>86650</td>\n      <td>86559</td>\n      <td>87237</td>\n      <td>87759</td>\n      <td>88573</td>\n      <td>89033</td>\n      <td>...</td>\n      <td>89866</td>\n      <td>90285</td>\n      <td>90871</td>\n      <td>91417</td>\n      <td>92160</td>\n      <td>92678</td>\n      <td>93332</td>\n      <td>93398.0</td>\n      <td>42.779442</td>\n      <td>-96.929210</td>\n    </tr>\n    <tr>\n      <th>Craig, CO</th>\n      <td>885</td>\n      <td>CO                                            ...</td>\n      <td>94659</td>\n      <td>94153</td>\n      <td>94296</td>\n      <td>93755</td>\n      <td>93192</td>\n      <td>92076</td>\n      <td>91516</td>\n      <td>91229</td>\n      <td>...</td>\n      <td>90596</td>\n      <td>90033</td>\n      <td>89607</td>\n      <td>89539</td>\n      <td>89376</td>\n      <td>89059</td>\n      <td>89213</td>\n      <td>89744.0</td>\n      <td>40.515249</td>\n      <td>-107.546454</td>\n    </tr>\n    <tr>\n      <th>Ketchikan, AK</th>\n      <td>886</td>\n      <td>AK                                            ...</td>\n      <td>79201</td>\n      <td>79341</td>\n      <td>79382</td>\n      <td>79509</td>\n      <td>79520</td>\n      <td>79628</td>\n      <td>79620</td>\n      <td>79787</td>\n      <td>...</td>\n      <td>80346</td>\n      <td>80497</td>\n      <td>80597</td>\n      <td>80635</td>\n      <td>80694</td>\n      <td>80727</td>\n      <td>80697</td>\n      <td>80789.0</td>\n      <td>55.342222</td>\n      <td>-131.646111</td>\n    </tr>\n  </tbody>\n</table>\n<p>886 rows × 21 columns</p>\n</div>"
     },
     "metadata": {},
     "execution_count": 19
    }
   ],
   "source": [
    "sql = \"\"\"\n",
    "SELECT *\n",
    "FROM zillow_housing \n",
    "\"\"\"\n",
    "data = pd.read_sql(sql, con=connection, index_col=\"RegionName\")\n",
    "\n",
    "data"
   ]
  },
  {
   "cell_type": "code",
   "execution_count": 6,
   "metadata": {
    "tags": []
   },
   "outputs": [],
   "source": [
    "\n",
    "\n",
    "from pprint import pprint \n",
    "\n",
    "datas = data.to_json(orient=\"records\")\n"
   ]
  },
  {
   "cell_type": "code",
   "execution_count": 18,
   "metadata": {
    "tags": []
   },
   "outputs": [
    {
     "output_type": "execute_result",
     "data": {
      "text/plain": "3    139288.0\nName: 05-31-2020, dtype: float64"
     },
     "metadata": {},
     "execution_count": 18
    }
   ],
   "source": [
    "datas = pd.read_sql(sql, con=connection)\n",
    "datas[\"RegionName\"] = datas[\"RegionName\"].str.strip()\n",
    "data2 = datas[[\"RegionName\", \"05-31-2020\"]]\n",
    "data2.reset_index()\n",
    "      \n",
    "        \n",
    "new = data2.loc[data2[\"RegionName\"] == 'Dallas-Fort Worth, TX']\n",
    "new\n",
    "value = new[\"05-31-2020\"]\n",
    "value"
   ]
  },
  {
   "cell_type": "code",
   "execution_count": 27,
   "metadata": {},
   "outputs": [
    {
     "output_type": "execute_result",
     "data": {
      "text/plain": "              RegionName  05-31-2020\n3  Dallas-Fort Worth, TX    139288.0",
      "text/html": "<div>\n<style scoped>\n    .dataframe tbody tr th:only-of-type {\n        vertical-align: middle;\n    }\n\n    .dataframe tbody tr th {\n        vertical-align: top;\n    }\n\n    .dataframe thead th {\n        text-align: right;\n    }\n</style>\n<table border=\"1\" class=\"dataframe\">\n  <thead>\n    <tr style=\"text-align: right;\">\n      <th></th>\n      <th>RegionName</th>\n      <th>05-31-2020</th>\n    </tr>\n  </thead>\n  <tbody>\n    <tr>\n      <th>3</th>\n      <td>Dallas-Fort Worth, TX</td>\n      <td>139288.0</td>\n    </tr>\n  </tbody>\n</table>\n</div>"
     },
     "metadata": {},
     "execution_count": 27
    }
   ],
   "source": [
    "datas = pd.read_sql(sql, con=connection)\n",
    "datas[\"RegionName\"] = datas[\"RegionName\"].str.strip()\n",
    "data2 = datas[[\"RegionName\", \"05-31-2020\"]]\n",
    "        \n",
    "new = data2[data2['RegionName']=='Washington, DC']\n",
    "        \n",
    "columns = new.columns\n",
    "value = new[\"05-31-2020\"]\n",
    "value"
   ]
  },
  {
   "cell_type": "code",
   "execution_count": null,
   "metadata": {},
   "outputs": [],
   "source": []
  }
 ],
 "metadata": {
  "language_info": {
   "codemirror_mode": {
    "name": "ipython",
    "version": 3
   },
   "file_extension": ".py",
   "mimetype": "text/x-python",
   "name": "python",
   "nbconvert_exporter": "python",
   "pygments_lexer": "ipython3",
   "version": "3.7.6-final"
  },
  "orig_nbformat": 2,
  "kernelspec": {
   "name": "python361064bitpythondataconda702a049063da4b8fb25107aa449393fc",
   "display_name": "Python 3.6.10 64-bit ('PythonData': conda)"
  }
 },
 "nbformat": 4,
 "nbformat_minor": 2
}