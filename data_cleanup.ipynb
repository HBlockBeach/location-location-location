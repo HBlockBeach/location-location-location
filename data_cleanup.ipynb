{
 "cells": [
  {
   "cell_type": "code",
   "execution_count": 2,
   "metadata": {
    "tags": []
   },
   "outputs": [
    {
     "output_type": "stream",
     "name": "stdout",
     "text": "['/Users/hunterblock/Documents/location-location-location/income_data/white-women-16-24.xlsx', '/Users/hunterblock/Documents/location-location-location/income_data/black-women-55.xlsx', '/Users/hunterblock/Documents/location-location-location/income_data/black-men-16-24.xlsx', '/Users/hunterblock/Documents/location-location-location/income_data/black-women-25-54.xlsx', '/Users/hunterblock/Documents/location-location-location/income_data/black-men-55.xlsx', '/Users/hunterblock/Documents/location-location-location/income_data/asian-men-55.xlsx', '/Users/hunterblock/Documents/location-location-location/income_data/white-men-25-54.xlsx', '/Users/hunterblock/Documents/location-location-location/income_data/hispanic-women-25-54.xlsx', '/Users/hunterblock/Documents/location-location-location/income_data/white-women-55.xlsx', '/Users/hunterblock/Documents/location-location-location/income_data/hispanic-men-16-24.xlsx', '/Users/hunterblock/Documents/location-location-location/income_data/asian-women-16-24.xlsx', '/Users/hunterblock/Documents/location-location-location/income_data/asian-men-16-24.xlsx', '/Users/hunterblock/Documents/location-location-location/income_data/black-women-16-24.xlsx', '/Users/hunterblock/Documents/location-location-location/income_data/white-women-25-54.xlsx', '/Users/hunterblock/Documents/location-location-location/income_data/black-men-25-54.xlsx', '/Users/hunterblock/Documents/location-location-location/income_data/white-men-55.xlsx', '/Users/hunterblock/Documents/location-location-location/income_data/hispanic-men-55.xlsx', '/Users/hunterblock/Documents/location-location-location/income_data/asian-women-55.xlsx', '/Users/hunterblock/Documents/location-location-location/income_data/hispanic-women-55.xlsx', '/Users/hunterblock/Documents/location-location-location/income_data/white-men-16-24.xlsx', '/Users/hunterblock/Documents/location-location-location/income_data/asian-men-25-54.xlsx', '/Users/hunterblock/Documents/location-location-location/income_data/hispanic-women-16-24.xlsx', '/Users/hunterblock/Documents/location-location-location/income_data/asian-women-25-54.xlsx', '/Users/hunterblock/Documents/location-location-location/income_data/hispanic-men-25-54.xlsx']\n"
    }
   ],
   "source": [
    "import pandas as pd\n",
    "import os\n",
    "\n",
    "directory = r'/Users/hunterblock/Documents/location-location-location/income_data'\n",
    "files = []\n",
    "for filename in os.listdir(directory):\n",
    "    if filename.endswith(\".xlsx\") :\n",
    "        files.append(os.path.join(directory, filename))\n",
    "    else:\n",
    "        continue\n",
    "\n",
    "print(files)"
   ]
  },
  {
   "cell_type": "code",
   "execution_count": 22,
   "metadata": {
    "tags": []
   },
   "outputs": [
    {
     "output_type": "stream",
     "name": "stdout",
     "text": "0   Year Qtr1 Qtr2 Qtr3 Qtr4   race    sex age_range\n1   2010  428  421  416  445  white  women        16\n2   2011  435  419  426  426  white  women        16\n3   2012  420  421  418  433  white  women        16\n4   2013  435  426  417  459  white  women        16\n5   2014  449  455  454  465  white  women        16\n6   2015  476  457  455  457  white  women        16\n7   2016  488  483  489  509  white  women        16\n8   2017  493  511  499  515  white  women        16\n9   2018  562  513  522  553  white  women        16\n10  2019  556  536  541  578  white  women        16\n11  2020  592  NaN  NaN  NaN  white  women        16\n0   Year Qtr1 Qtr2 Qtr3 Qtr4   race    sex age_range\n1   2010  633  617  587  622  black  women        55\n2   2011  662  615  587  620  black  women        55\n3   2012  648  727  613  624  black  women        55\n4   2013  680  738  635  708  black  women        55\n5   2014  673  698  745  739  black  women        55\n6   2015  720  680  688  680  black  women        55\n7   2016  694  739  666  751  black  women        55\n8   2017  708  741  724  693  black  women        55\n9   2018  701  640  668  791  black  women        55\n10  2019  747  728  723  843  black  women        55\n11  2020  769  NaN  NaN  NaN  black  women        55\n0   Year Qtr1 Qtr2 Qtr3 Qtr4   race  sex age_range\n1   2010  403  409  392  406  black  men        16\n2   2011  420  398  418  413  black  men        16\n3   2012  401  392  408  372  black  men        16\n4   2013  417  383  378  400  black  men        16\n5   2014  386  403  421  427  black  men        16\n6   2015  398  417  465  500  black  men        16\n7   2016  426  462  448  404  black  men        16\n8   2017  416  505  478  470  black  men        16\n9   2018  466  438  512  502  black  men        16\n10  2019  491  513  577  598  black  men        16\n11  2020  457  NaN  NaN  NaN  black  men        16\n0   Year Qtr1 Qtr2 Qtr3 Qtr4   race    sex age_range\n1   2010  607  600  623  626  black  women        25\n2   2011  604  609  615  621  black  women        25\n3   2012  621  652  609  605  black  women        25\n4   2013  618  623  616  635  black  women        25\n5   2014  615  653  612  608  black  women        25\n6   2015  633  647  642  641  black  women        25\n7   2016  655  675  686  658  black  women        25\n8   2017  661  700  674  665  black  women        25\n9   2018  698  681  657  681  black  women        25\n10  2019  736  718  702  765  black  women        25\n11  2020  767  NaN  NaN  NaN  black  women        25\n0   Year Qtr1 Qtr2 Qtr3 Qtr4   race  sex age_range\n1   2010  736  678  738  771  black  men        55\n2   2011  718  751  754  734  black  men        55\n3   2012  722  792  779  753  black  men        55\n4   2013  734  702  819  728  black  men        55\n5   2014  789  751  835  833  black  men        55\n6   2015  764  756  795  726  black  men        55\n7   2016  801  819  844  729  black  men        55\n8   2017  768  769  884  768  black  men        55\n9   2018  794  841  771  907  black  men        55\n10  2019  849  870  798  780  black  men        55\n11  2020  836  NaN  NaN  NaN  black  men        55\n0   Year  Qtr1  Qtr2  Qtr3  Qtr4   race  sex age_range\n1   2010   790   768   832   859  asian  men        55\n2   2011   798   903   980   910  asian  men        55\n3   2012   987   980   981   880  asian  men        55\n4   2013   958  1095   852   914  asian  men        55\n5   2014   942  1011   968   935  asian  men        55\n6   2015  1034  1034  1030  1200  asian  men        55\n7   2016  1188   943  1101   984  asian  men        55\n8   2017  1112  1022  1125  1135  asian  men        55\n9   2018  1154  1014  1073  1150  asian  men        55\n10  2019  1239  1118  1237  1213  asian  men        55\n11  2020  1142   NaN   NaN   NaN  asian  men        55\n0   Year  Qtr1  Qtr2  Qtr3  Qtr4   race  sex age_range\n1   2010   893   869   871   879  white  men        25\n2   2011   876   887   888   893  white  men        25\n3   2012   903   925   892   916  white  men        25\n4   2013   919   907   905   909  white  men        25\n5   2014   929   919   918   925  white  men        25\n6   2015   945   943   941   950  white  men        25\n7   2016   955   971   964   974  white  men        25\n8   2017  1009  1005   990  1000  white  men        25\n9   2018  1030  1008  1037  1043  white  men        25\n10  2019  1068  1063  1070  1097  white  men        25\n11  2020  1128   NaN   NaN   NaN  white  men        25\n0   Year Qtr1 Qtr2 Qtr3 Qtr4      race    sex age_range\n1   2010  521  533  531  531  hispanic  women        25\n2   2011  542  551  547  543  hispanic  women        25\n3   2012  571  564  537  546  hispanic  women        25\n4   2013  573  579  584  575  hispanic  women        25\n5   2014  591  562  587  588  hispanic  women        25\n6   2015  582  594  600  604  hispanic  women        25\n7   2016  600  602  611  617  hispanic  women        25\n8   2017  620  644  637  632  hispanic  women        25\n9   2018  635  647  658  651  hispanic  women        25\n10  2019  663  654  694  685  hispanic  women        25\n11  2020  701  NaN  NaN  NaN  hispanic  women        25\n0   Year Qtr1 Qtr2 Qtr3 Qtr4   race    sex age_range\n1   2010  712  729  747  739  white  women        55\n2   2011  753  762  761  749  white  women        55\n3   2012  782  758  774  768  white  women        55\n4   2013  776  783  785  788  white  women        55\n5   2014  772  772  793  792  white  women        55\n6   2015  788  811  810  789  white  women        55\n7   2016  835  791  820  821  white  women        55\n8   2017  855  875  889  840  white  women        55\n9   2018  838  919  861  894  white  women        55\n10  2019  888  894  877  908  white  women        55\n11  2020  926  NaN  NaN  NaN  white  women        55\n0   Year Qtr1 Qtr2 Qtr3 Qtr4      race  sex age_range\n1   2010  387  403  391  397  hispanic  men        16\n2   2011  411  416  408  415  hispanic  men        16\n3   2012  416  422  415  439  hispanic  men        16\n4   2013  453  422  421  431  hispanic  men        16\n5   2014  417  424  462  475  hispanic  men        16\n6   2015  448  459  483  506  hispanic  men        16\n7   2016  494  481  496  520  hispanic  men        16\n8   2017  498  502  532  546  hispanic  men        16\n9   2018  515  516  519  599  hispanic  men        16\n10  2019  575  568  578  596  hispanic  men        16\n11  2020  564  NaN  NaN  NaN  hispanic  men        16\n0   Year Qtr1 Qtr2 Qtr3 Qtr4   race    sex age_range\n1   2010  412  623  539  551  asian  women        16\n2   2011  453  473  542  493  asian  women        16\n3   2012  468  417  513  475  asian  women        16\n4   2013  472  487  574  430  asian  women        16\n5   2014  419  468  418  522  asian  women        16\n6   2015  650  511  537  602  asian  women        16\n7   2016  560  515  554  597  asian  women        16\n8   2017  630  629  528  603  asian  women        16\n9   2018  680  688  502  623  asian  women        16\n10  2019  612  757  652  737  asian  women        16\n11  2020  738  NaN  NaN  NaN  asian  women        16\n0   Year Qtr1 Qtr2 Qtr3 Qtr4   race  sex age_range\n1   2010  496  423  474  551  asian  men        16\n2   2011  420  564  465  509  asian  men        16\n3   2012  530  514  472  547  asian  men        16\n4   2013  541  518  413  567  asian  men        16\n5   2014  498  492  672  691  asian  men        16\n6   2015  493  602  508  612  asian  men        16\n7   2016  630  520  591  621  asian  men        16\n8   2017  569  701  600  732  asian  men        16\n9   2018  722  546  691  787  asian  men        16\n10  2019  815  677  710  706  asian  men        16\n11  2020  849  NaN  NaN  NaN  asian  men        16\n0   Year Qtr1 Qtr2 Qtr3 Qtr4   race    sex age_range\n1   2010  380  396  424  411  black  women        16\n2   2011  390  412  384  368  black  women        16\n3   2012  392  369  390  371  black  women        16\n4   2013  389  400  388  384  black  women        16\n5   2014  381  406  429  475  black  women        16\n6   2015  375  399  395  427  black  women        16\n7   2016  415  408  400  474  black  women        16\n8   2017  452  413  501  489  black  women        16\n9   2018  490  483  485  462  black  women        16\n10  2019  457  460  512  511  black  women        16\n11  2020  501  NaN  NaN  NaN  black  women        16\n0   Year Qtr1 Qtr2 Qtr3 Qtr4   race    sex age_range\n1   2010  717  711  710  720  white  women        25\n2   2011  725  728  730  737  white  women        25\n3   2012  736  731  737  736  white  women        25\n4   2013  744  743  746  754  white  women        25\n5   2014  771  752  760  768  white  women        25\n6   2015  773  768  772  780  white  women        25\n7   2016  791  799  799  823  white  women        25\n8   2017  820  835  821  824  white  women        25\n9   2018  848  839  869  850  white  women        25\n10  2019  857  868  901  896  white  women        25\n11  2020  906  NaN  NaN  NaN  white  women        25\n0   Year Qtr1 Qtr2 Qtr3 Qtr4   race  sex age_range\n1   2010  651  655  656  661  black  men        25\n2   2011  648  689  685  690  black  men        25\n3   2012  714  693  655  703  black  men        25\n4   2013  690  695  704  669  black  men        25\n5   2014  731  683  683  696  black  men        25\n6   2015  721  726  660  703  black  men        25\n7   2016  755  718  751  743  black  men        25\n8   2017  753  715  777  701  black  men        25\n9   2018  743  753  766  793  black  men        25\n10  2019  799  823  824  815  black  men        25\n11  2020  891  NaN  NaN  NaN  black  men        25\n0   Year  Qtr1  Qtr2  Qtr3  Qtr4   race  sex age_range\n1   2010   990   968   997  1007  white  men        55\n2   2011  1009   996   985  1040  white  men        55\n3   2012  1012  1020   990  1073  white  men        55\n4   2013  1000  1061  1012  1094  white  men        55\n5   2014  1006  1017  1071  1058  white  men        55\n6   2015  1060  1080  1106  1144  white  men        55\n7   2016  1135  1114  1134  1153  white  men        55\n8   2017  1098  1104  1161  1150  white  men        55\n9   2018  1146  1165  1166  1218  white  men        55\n10  2019  1204  1193  1183  1220  white  men        55\n11  2020  1266   NaN   NaN   NaN  white  men        55\n0   Year Qtr1 Qtr2 Qtr3 Qtr4      race  sex age_range\n1   2010  664  592  621  609  hispanic  men        55\n2   2011  743  578  612  645  hispanic  men        55\n3   2012  619  624  665  690  hispanic  men        55\n4   2013  640  651  676  698  hispanic  men        55\n5   2014  682  637  668  697  hispanic  men        55\n6   2015  679  711  733  730  hispanic  men        55\n7   2016  760  767  716  738  hispanic  men        55\n8   2017  769  754  762  758  hispanic  men        55\n9   2018  786  805  760  846  hispanic  men        55\n10  2019  783  795  797  768  hispanic  men        55\n11  2020  801  NaN  NaN  NaN  hispanic  men        55\n0   Year Qtr1 Qtr2 Qtr3 Qtr4   race    sex age_range\n1   2010  783  767  663  657  asian  women        55\n2   2011  703  713  626  731  asian  women        55\n3   2012  701  625  699  571  asian  women        55\n4   2013  652  768  686  778  asian  women        55\n5   2014  838  808  644  786  asian  women        55\n6   2015  749  838  677  930  asian  women        55\n7   2016  949  833  714  931  asian  women        55\n8   2017  921  860  710  823  asian  women        55\n9   2018  885  744  722  863  asian  women        55\n10  2019  899  863  865  912  asian  women        55\n11  2020  875  NaN  NaN  NaN  asian  women        55\n0   Year Qtr1 Qtr2 Qtr3 Qtr4      race    sex age_range\n1   2010  526  545  524  505  hispanic  women        55\n2   2011  509  590  523  494  hispanic  women        55\n3   2012  546  602  583  523  hispanic  women        55\n4   2013  522  619  604  542  hispanic  women        55\n5   2014  556  593  595  541  hispanic  women        55\n6   2015  560  615  582  552  hispanic  women        55\n7   2016  620  624  696  596  hispanic  women        55\n8   2017  645  659  621  617  hispanic  women        55\n9   2018  617  690  619  609  hispanic  women        55\n10  2019  666  649  708  635  hispanic  women        55\n11  2020  707  NaN  NaN  NaN  hispanic  women        55\n0   Year Qtr1 Qtr2 Qtr3 Qtr4   race  sex age_range\n1   2010  484  449  429  461  white  men        16\n2   2011  482  450  443  475  white  men        16\n3   2012  474  471  470  485  white  men        16\n4   2013  493  492  475  500  white  men        16\n5   2014  493  495  505  519  white  men        16\n6   2015  503  507  530  550  white  men        16\n7   2016  517  510  517  541  white  men        16\n8   2017  579  523  529  593  white  men        16\n9   2018  581  556  576  624  white  men        16\n10  2019  613  617  609  623  white  men        16\n11  2020  605  NaN  NaN  NaN  white  men        16\n0   Year  Qtr1  Qtr2  Qtr3  Qtr4   race  sex age_range\n1   2010   971   999  1021  1004  asian  men        25\n2   2011  1021  1018  1101  1011  asian  men        25\n3   2012  1145  1157  1149  1135  asian  men        25\n4   2013  1145  1166  1136  1120  asian  men        25\n5   2014  1127  1204  1159  1140  asian  men        25\n6   2015  1146  1121  1240  1247  asian  men        25\n7   2016  1207  1249  1241  1212  asian  men        25\n8   2017  1271  1337  1218  1342  asian  men        25\n9   2018  1256  1331  1413  1370  asian  men        25\n10  2019  1361  1403  1479  1419  asian  men        25\n11  2020  1429   NaN   NaN   NaN  asian  men        25\n0   Year Qtr1 Qtr2 Qtr3 Qtr4      race    sex age_range\n1   2010  396  395  385  393  hispanic  women        16\n2   2011  403  404  441  370  hispanic  women        16\n3   2012  399  381  382  412  hispanic  women        16\n4   2013  379  406  410  407  hispanic  women        16\n5   2014  432  414  420  393  hispanic  women        16\n6   2015  415  430  411  423  hispanic  women        16\n7   2016  447  461  476  455  hispanic  women        16\n8   2017  459  472  442  477  hispanic  women        16\n9   2018  512  483  502  490  hispanic  women        16\n10  2019  520  508  519  522  hispanic  women        16\n11  2020  552  NaN  NaN  NaN  hispanic  women        16\n0   Year  Qtr1  Qtr2  Qtr3  Qtr4   race    sex age_range\n1   2010   791   886   824   748  asian  women        25\n2   2011   787   789   752   830  asian  women        25\n3   2012   893   849   805   805  asian  women        25\n4   2013   905   926   853   850  asian  women        25\n5   2014   944   908   866   894  asian  women        25\n6   2015   918   871   955   966  asian  women        25\n7   2016   976   982   976   934  asian  women        25\n8   2017   921   974   969   941  asian  women        25\n9   2018   993   964  1100   994  asian  women        25\n10  2019  1160  1020  1230  1125  asian  women        25\n11  2020  1200   NaN   NaN   NaN  asian  women        25\n0   Year Qtr1 Qtr2 Qtr3 Qtr4      race  sex age_range\n1   2010  606  574  579  588  hispanic  men        25\n2   2011  581  617  596  583  hispanic  men        25\n3   2012  603  633  610  622  hispanic  men        25\n4   2013  614  604  656  611  hispanic  men        25\n5   2014  645  637  655  659  hispanic  men        25\n6   2015  653  646  652  701  hispanic  men        25\n7   2016  670  683  697  709  hispanic  men        25\n8   2017  720  712  717  706  hispanic  men        25\n9   2018  760  725  754  753  hispanic  men        25\n10  2019  757  782  783  800  hispanic  men        25\n11  2020  796  NaN  NaN  NaN  hispanic  men        25\n"
    }
   ],
   "source": [
    "total_data = pd.DataFrame()\n",
    "\n",
    "for row in files:\n",
    "    df = pd.read_excel(row, header=18)\n",
    "    new_header = df.iloc[0] #grab the first row for the header\n",
    "    df = df[1:] #take the data less the header row\n",
    "    df.columns = new_header #set the header row as the df header\n",
    "\n",
    "    df = df.iloc[:,:-1]\n",
    "\n",
    "    df[\"race\"] = \"\"\n",
    "    df[\"sex\"] = \"\"\n",
    "    df[\"age_range\"] = \"\"\n",
    "\n",
    "    split = pd.Series(row).str.split(pat=\"/\", expand=True)\n",
    "    filename= split[6]\n",
    "\n",
    "    rowsplit = filename.str.split(pat=\"-\", expand=True)\n",
    "    age = rowsplit[2].str.split(pat=\".\", expand=True)\n",
    "\n",
    "    demos = pd.DataFrame()\n",
    "    demos[\"race\"] = rowsplit[0]\n",
    "    demos[\"sex\"] = rowsplit[1]\n",
    "    demos[\"age_range\"] = age[0]\n",
    "\n",
    "    df[\"race\"] = demos[\"race\"][0]\n",
    "    df[\"sex\"] = demos[\"sex\"][0]\n",
    "    df[\"age_range\"] = demos[\"age_range\"][0]\n",
    "    \n",
    "    print(df) "
   ]
  },
  {
   "cell_type": "code",
   "execution_count": null,
   "metadata": {},
   "outputs": [],
   "source": []
  }
 ],
 "metadata": {
  "language_info": {
   "codemirror_mode": {
    "name": "ipython",
    "version": 3
   },
   "file_extension": ".py",
   "mimetype": "text/x-python",
   "name": "python",
   "nbconvert_exporter": "python",
   "pygments_lexer": "ipython3",
   "version": "3.7.7-final"
  },
  "orig_nbformat": 2,
  "kernelspec": {
   "name": "python37764bithunterconda3a4e22e4b5e344de9bcd2fc46130e7b9",
   "display_name": "Python 3.7.7 64-bit ('hunter': conda)"
  }
 },
 "nbformat": 4,
 "nbformat_minor": 2
}