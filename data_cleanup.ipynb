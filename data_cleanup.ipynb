{
 "cells": [
  {
   "cell_type": "code",
   "execution_count": 2,
   "metadata": {
    "tags": []
   },
   "outputs": [
    {
     "output_type": "stream",
     "name": "stdout",
     "text": "['/Users/hunterblock/Documents/location-location-location/income_data/white-women-16-24.xlsx', '/Users/hunterblock/Documents/location-location-location/income_data/black-women-55.xlsx', '/Users/hunterblock/Documents/location-location-location/income_data/black-men-16-24.xlsx', '/Users/hunterblock/Documents/location-location-location/income_data/black-women-25-54.xlsx', '/Users/hunterblock/Documents/location-location-location/income_data/black-men-55.xlsx', '/Users/hunterblock/Documents/location-location-location/income_data/asian-men-55.xlsx', '/Users/hunterblock/Documents/location-location-location/income_data/white-men-25-54.xlsx', '/Users/hunterblock/Documents/location-location-location/income_data/hispanic-women-25-54.xlsx', '/Users/hunterblock/Documents/location-location-location/income_data/white-women-55.xlsx', '/Users/hunterblock/Documents/location-location-location/income_data/hispanic-men-16-24.xlsx', '/Users/hunterblock/Documents/location-location-location/income_data/asian-women-16-24.xlsx', '/Users/hunterblock/Documents/location-location-location/income_data/asian-men-16-24.xlsx', '/Users/hunterblock/Documents/location-location-location/income_data/black-women-16-24.xlsx', '/Users/hunterblock/Documents/location-location-location/income_data/white-women-25-54.xlsx', '/Users/hunterblock/Documents/location-location-location/income_data/black-men-25-54.xlsx', '/Users/hunterblock/Documents/location-location-location/income_data/white-men-55.xlsx', '/Users/hunterblock/Documents/location-location-location/income_data/hispanic-men-55.xlsx', '/Users/hunterblock/Documents/location-location-location/income_data/asian-women-55.xlsx', '/Users/hunterblock/Documents/location-location-location/income_data/hispanic-women-55.xlsx', '/Users/hunterblock/Documents/location-location-location/income_data/white-men-16-24.xlsx', '/Users/hunterblock/Documents/location-location-location/income_data/asian-men-25-54.xlsx', '/Users/hunterblock/Documents/location-location-location/income_data/hispanic-women-16-24.xlsx', '/Users/hunterblock/Documents/location-location-location/income_data/asian-women-25-54.xlsx', '/Users/hunterblock/Documents/location-location-location/income_data/hispanic-men-25-54.xlsx']\n"
    }
   ],
   "source": [
    "import pandas as pd\n",
    "import os\n",
    "\n",
    "directory = r'/Users/hunterblock/Documents/location-location-location/income_data'\n",
    "files = []\n",
    "for filename in os.listdir(directory):\n",
    "    if filename.endswith(\".xlsx\") :\n",
    "        files.append(os.path.join(directory, filename))\n",
    "    else:\n",
    "        continue\n",
    "\n",
    "print(files)"
   ]
  },
  {
   "cell_type": "code",
   "execution_count": 12,
   "metadata": {
    "tags": []
   },
   "outputs": [],
   "source": [
    "total_data = pd.DataFrame()\n",
    "\n",
    "for row in files:\n",
    "    df = pd.read_excel(row, header=18)\n",
    "    new_header = df.iloc[0] #grab the first row for the header\n",
    "    df = df[1:] #take the data less the header row\n",
    "    df.columns = new_header #set the header row as the df header\n",
    "\n",
    "    df = df.iloc[:,:-1]\n",
    "\n",
    "    df[\"race\"] = \"\"\n",
    "    df[\"sex\"] = \"\"\n",
    "    df[\"age_range\"] = \"\"\n",
    "\n",
    "    split = pd.Series(row).str.split(pat=\"/\", expand=True)\n",
    "    filename= split[6]\n",
    "\n",
    "    rowsplit = filename.str.split(pat=\"-\", expand=True)\n",
    "    age = rowsplit[2].str.split(pat=\".\", expand=True)\n",
    "\n",
    "    demos = pd.DataFrame()\n",
    "    demos[\"race\"] = rowsplit[0]\n",
    "    demos[\"sex\"] = rowsplit[1]\n",
    "    demos[\"age_range\"] = age[0]\n",
    "\n",
    "    df[\"race\"] = demos[\"race\"][0]\n",
    "    df[\"sex\"] = demos[\"sex\"][0]\n",
    "    df[\"age_range\"] = demos[\"age_range\"][0]\n",
    "    \n",
    "    total_data = total_data.append(df)\n"
   ]
  },
  {
   "cell_type": "code",
   "execution_count": 13,
   "metadata": {},
   "outputs": [
    {
     "output_type": "execute_result",
     "data": {
      "text/plain": "0   Year  Qtr1   Qtr2   Qtr3   Qtr4      race    sex age_range\n1   2010   428  421.0  416.0  445.0     white  women     16-24\n2   2011   435  419.0  426.0  426.0     white  women     16-24\n3   2012   420  421.0  418.0  433.0     white  women     16-24\n4   2013   435  426.0  417.0  459.0     white  women     16-24\n5   2014   449  455.0  454.0  465.0     white  women     16-24\n..   ...   ...    ...    ...    ...       ...    ...       ...\n7   2016   670  683.0  697.0  709.0  hispanic    men     25-54\n8   2017   720  712.0  717.0  706.0  hispanic    men     25-54\n9   2018   760  725.0  754.0  753.0  hispanic    men     25-54\n10  2019   757  782.0  783.0  800.0  hispanic    men     25-54\n11  2020   796    NaN    NaN    NaN  hispanic    men     25-54\n\n[264 rows x 8 columns]",
      "text/html": "<div>\n<style scoped>\n    .dataframe tbody tr th:only-of-type {\n        vertical-align: middle;\n    }\n\n    .dataframe tbody tr th {\n        vertical-align: top;\n    }\n\n    .dataframe thead th {\n        text-align: right;\n    }\n</style>\n<table border=\"1\" class=\"dataframe\">\n  <thead>\n    <tr style=\"text-align: right;\">\n      <th></th>\n      <th>Year</th>\n      <th>Qtr1</th>\n      <th>Qtr2</th>\n      <th>Qtr3</th>\n      <th>Qtr4</th>\n      <th>race</th>\n      <th>sex</th>\n      <th>age_range</th>\n    </tr>\n  </thead>\n  <tbody>\n    <tr>\n      <th>1</th>\n      <td>2010</td>\n      <td>428</td>\n      <td>421.0</td>\n      <td>416.0</td>\n      <td>445.0</td>\n      <td>white</td>\n      <td>women</td>\n      <td>16-24</td>\n    </tr>\n    <tr>\n      <th>2</th>\n      <td>2011</td>\n      <td>435</td>\n      <td>419.0</td>\n      <td>426.0</td>\n      <td>426.0</td>\n      <td>white</td>\n      <td>women</td>\n      <td>16-24</td>\n    </tr>\n    <tr>\n      <th>3</th>\n      <td>2012</td>\n      <td>420</td>\n      <td>421.0</td>\n      <td>418.0</td>\n      <td>433.0</td>\n      <td>white</td>\n      <td>women</td>\n      <td>16-24</td>\n    </tr>\n    <tr>\n      <th>4</th>\n      <td>2013</td>\n      <td>435</td>\n      <td>426.0</td>\n      <td>417.0</td>\n      <td>459.0</td>\n      <td>white</td>\n      <td>women</td>\n      <td>16-24</td>\n    </tr>\n    <tr>\n      <th>5</th>\n      <td>2014</td>\n      <td>449</td>\n      <td>455.0</td>\n      <td>454.0</td>\n      <td>465.0</td>\n      <td>white</td>\n      <td>women</td>\n      <td>16-24</td>\n    </tr>\n    <tr>\n      <th>...</th>\n      <td>...</td>\n      <td>...</td>\n      <td>...</td>\n      <td>...</td>\n      <td>...</td>\n      <td>...</td>\n      <td>...</td>\n      <td>...</td>\n    </tr>\n    <tr>\n      <th>7</th>\n      <td>2016</td>\n      <td>670</td>\n      <td>683.0</td>\n      <td>697.0</td>\n      <td>709.0</td>\n      <td>hispanic</td>\n      <td>men</td>\n      <td>25-54</td>\n    </tr>\n    <tr>\n      <th>8</th>\n      <td>2017</td>\n      <td>720</td>\n      <td>712.0</td>\n      <td>717.0</td>\n      <td>706.0</td>\n      <td>hispanic</td>\n      <td>men</td>\n      <td>25-54</td>\n    </tr>\n    <tr>\n      <th>9</th>\n      <td>2018</td>\n      <td>760</td>\n      <td>725.0</td>\n      <td>754.0</td>\n      <td>753.0</td>\n      <td>hispanic</td>\n      <td>men</td>\n      <td>25-54</td>\n    </tr>\n    <tr>\n      <th>10</th>\n      <td>2019</td>\n      <td>757</td>\n      <td>782.0</td>\n      <td>783.0</td>\n      <td>800.0</td>\n      <td>hispanic</td>\n      <td>men</td>\n      <td>25-54</td>\n    </tr>\n    <tr>\n      <th>11</th>\n      <td>2020</td>\n      <td>796</td>\n      <td>NaN</td>\n      <td>NaN</td>\n      <td>NaN</td>\n      <td>hispanic</td>\n      <td>men</td>\n      <td>25-54</td>\n    </tr>\n  </tbody>\n</table>\n<p>264 rows × 8 columns</p>\n</div>"
     },
     "metadata": {},
     "execution_count": 13
    }
   ],
   "source": [
    "total_data.replace(\"16\", \"16-24\", inplace=True)\n",
    "total_data.replace(\"25\", \"25-54\", inplace=True)\n",
    "total_data.replace(\"55\", \"55+\", inplace=True)\n",
    "\n",
    "total_data.to_csv(combined_data.csv)"
   ]
  },
  {
   "cell_type": "code",
   "execution_count": null,
   "metadata": {},
   "outputs": [],
   "source": []
  }
 ],
 "metadata": {
  "language_info": {
   "codemirror_mode": {
    "name": "ipython",
    "version": 3
   },
   "file_extension": ".py",
   "mimetype": "text/x-python",
   "name": "python",
   "nbconvert_exporter": "python",
   "pygments_lexer": "ipython3",
   "version": "3.7.7-final"
  },
  "orig_nbformat": 2,
  "kernelspec": {
   "name": "python37764bithunterconda3a4e22e4b5e344de9bcd2fc46130e7b9",
   "display_name": "Python 3.7.7 64-bit ('hunter': conda)"
  }
 },
 "nbformat": 4,
 "nbformat_minor": 2
}