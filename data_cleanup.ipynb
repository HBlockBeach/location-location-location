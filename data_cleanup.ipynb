{
 "cells": [
  {
   "cell_type": "code",
   "execution_count": 13,
   "metadata": {
    "tags": []
   },
   "outputs": [
    {
     "output_type": "stream",
     "name": "stdout",
     "text": "['/Users/hunterblock/Documents/location-location-location/income_data/white-women-16-24.xlsx', '/Users/hunterblock/Documents/location-location-location/income_data/black-women-55.xlsx', '/Users/hunterblock/Documents/location-location-location/income_data/black-men-16-24.xlsx', '/Users/hunterblock/Documents/location-location-location/income_data/black-women-25-54.xlsx', '/Users/hunterblock/Documents/location-location-location/income_data/black-men-55.xlsx', '/Users/hunterblock/Documents/location-location-location/income_data/asian-men-55.xlsx', '/Users/hunterblock/Documents/location-location-location/income_data/white-men-25-54.xlsx', '/Users/hunterblock/Documents/location-location-location/income_data/hispanic-women-25-54.xlsx', '/Users/hunterblock/Documents/location-location-location/income_data/white-women-55.xlsx', '/Users/hunterblock/Documents/location-location-location/income_data/hispanic-men-16-24.xlsx', '/Users/hunterblock/Documents/location-location-location/income_data/asian-women-16-24.xlsx', '/Users/hunterblock/Documents/location-location-location/income_data/asian-men-16-24.xlsx', '/Users/hunterblock/Documents/location-location-location/income_data/black-women-16-24.xlsx', '/Users/hunterblock/Documents/location-location-location/income_data/white-women-25-54.xlsx', '/Users/hunterblock/Documents/location-location-location/income_data/black-men-25-54.xlsx', '/Users/hunterblock/Documents/location-location-location/income_data/white-men-55.xlsx', '/Users/hunterblock/Documents/location-location-location/income_data/hispanic-men-55.xlsx', '/Users/hunterblock/Documents/location-location-location/income_data/asian-women-55.xlsx', '/Users/hunterblock/Documents/location-location-location/income_data/hispanic-women-55.xlsx', '/Users/hunterblock/Documents/location-location-location/income_data/white-men-16-24.xlsx', '/Users/hunterblock/Documents/location-location-location/income_data/asian-men-25-54.xlsx', '/Users/hunterblock/Documents/location-location-location/income_data/hispanic-women-16-24.xlsx', '/Users/hunterblock/Documents/location-location-location/income_data/asian-women-25-54.xlsx', '/Users/hunterblock/Documents/location-location-location/income_data/hispanic-men-25-54.xlsx']\n"
    }
   ],
   "source": [
    "import pandas as pd\n",
    "import os\n",
    "\n",
    "directory = r'/Users/hunterblock/Documents/location-location-location/income_data'\n",
    "files = []\n",
    "for filename in os.listdir(directory):\n",
    "    if filename.endswith(\".xlsx\") :\n",
    "        files.append(os.path.join(directory, filename))\n",
    "    else:\n",
    "        continue\n",
    "\n",
    "print(files)"
   ]
  },
  {
   "cell_type": "code",
   "execution_count": 2,
   "metadata": {
    "tags": []
   },
   "outputs": [],
   "source": [
    "total_data = pd.DataFrame()\n",
    "\n",
    "for row in files:\n",
    "    df = pd.read_excel(row, header=18)\n",
    "    new_header = df.iloc[0] #grab the first row for the header\n",
    "    df = df[1:] #take the data less the header row\n",
    "    df.columns = new_header #set the header row as the df header\n",
    "\n",
    "    df = df.iloc[:,:-1]\n",
    "\n",
    "    df[\"race\"] = \"\"\n",
    "    df[\"sex\"] = \"\"\n",
    "    df[\"age_range\"] = \"\"\n",
    "\n",
    "    split = pd.Series(row).str.split(pat=\"/\", expand=True)\n",
    "    filename= split[6]\n",
    "\n",
    "    rowsplit = filename.str.split(pat=\"-\", expand=True)\n",
    "    age = rowsplit[2].str.split(pat=\".\", expand=True)\n",
    "\n",
    "    demos = pd.DataFrame()\n",
    "    demos[\"race\"] = rowsplit[0]\n",
    "    demos[\"sex\"] = rowsplit[1]\n",
    "    demos[\"age_range\"] = age[0]\n",
    "\n",
    "    df[\"race\"] = demos[\"race\"][0]\n",
    "    df[\"sex\"] = demos[\"sex\"][0]\n",
    "    df[\"age_range\"] = demos[\"age_range\"][0]\n",
    "    \n",
    "    total_data = total_data.append(df)\n"
   ]
  },
  {
   "cell_type": "code",
   "execution_count": 3,
   "metadata": {},
   "outputs": [
    {
     "output_type": "error",
     "ename": "NameError",
     "evalue": "name 'combined_data' is not defined",
     "traceback": [
      "\u001b[0;31m---------------------------------------------------------------------------\u001b[0m",
      "\u001b[0;31mNameError\u001b[0m                                 Traceback (most recent call last)",
      "\u001b[0;32m<ipython-input-3-e4f86ac488c9>\u001b[0m in \u001b[0;36m<module>\u001b[0;34m\u001b[0m\n\u001b[1;32m      3\u001b[0m \u001b[0mtotal_data\u001b[0m\u001b[0;34m.\u001b[0m\u001b[0mreplace\u001b[0m\u001b[0;34m(\u001b[0m\u001b[0;34m\"55\"\u001b[0m\u001b[0;34m,\u001b[0m \u001b[0;34m\"55+\"\u001b[0m\u001b[0;34m,\u001b[0m \u001b[0minplace\u001b[0m\u001b[0;34m=\u001b[0m\u001b[0;32mTrue\u001b[0m\u001b[0;34m)\u001b[0m\u001b[0;34m\u001b[0m\u001b[0;34m\u001b[0m\u001b[0m\n\u001b[1;32m      4\u001b[0m \u001b[0;34m\u001b[0m\u001b[0m\n\u001b[0;32m----> 5\u001b[0;31m \u001b[0mtotal_data\u001b[0m\u001b[0;34m.\u001b[0m\u001b[0mto_csv\u001b[0m\u001b[0;34m(\u001b[0m\u001b[0mcombined_data\u001b[0m\u001b[0;34m.\u001b[0m\u001b[0mcsv\u001b[0m\u001b[0;34m)\u001b[0m\u001b[0;34m\u001b[0m\u001b[0;34m\u001b[0m\u001b[0m\n\u001b[0m",
      "\u001b[0;31mNameError\u001b[0m: name 'combined_data' is not defined"
     ]
    }
   ],
   "source": [
    "total_data.replace(\"16\", \"16-24\", inplace=True)\n",
    "total_data.replace(\"25\", \"25-54\", inplace=True)\n",
    "total_data.replace(\"55\", \"55+\", inplace=True)\n",
    "\n",
    "total_data.to_csv(\"combined_data.csv\")"
   ]
  },
  {
   "cell_type": "code",
   "execution_count": 11,
   "metadata": {},
   "outputs": [],
   "source": [
    "#import os\n",
    "#from flask_sqlalchemy import SQLAlchemy \n",
    "#from flask import Flask, jsonify, render_template, request\n",
    "#import sqlalchemy\n",
    "#from sqlalchemy import create_engine, func\n",
    "#from sqlalchemy.orm import Session\n",
    "#from sqlalchemy.ext.automap import automap_base\n",
    "\n",
    "\n",
    "\n",
    "\n",
    "import psycopg2\n",
    "connection = psycopg2.connect(\n",
    "    host = 'housingdb.cxrqyy0s90my.us-east-2.rds.amazonaws.com',\n",
    "    port = 5432,\n",
    "    user = 'root',\n",
    "    password = 'ClassProject3718',\n",
    "    database='housing'\n",
    "    )\n",
    "cursor=connection.cursor()"
   ]
  },
  {
   "cell_type": "code",
   "execution_count": 14,
   "metadata": {},
   "outputs": [
    {
     "output_type": "execute_result",
     "data": {
      "text/plain": "        table_name column_name  data_type table_schema\n0   zillow_housing  05-31-2019     bigint       public\n1   zillow_housing  03-31-2019     bigint       public\n2   zillow_housing         lng    numeric       public\n3   zillow_housing       index    integer       public\n4   zillow_housing  01-31-2019     bigint       public\n5   zillow_housing   1-31-2020     bigint       public\n6   zillow_housing  04-30-2019     bigint       public\n7   zillow_housing  06-30-2019     bigint       public\n8   zillow_housing  11-30-2019     bigint       public\n9   zillow_housing   StateName  character       public\n10  zillow_housing  05-31-2020    numeric       public\n11  zillow_housing  RegionName  character       public\n12  zillow_housing  07-31-2019     bigint       public\n13  zillow_housing  09-30-2019     bigint       public\n14  zillow_housing   3-31-2020     bigint       public\n15  zillow_housing   2-29-2020     bigint       public\n16  zillow_housing  08-31-2019     bigint       public\n17  zillow_housing         lat    numeric       public\n18  zillow_housing  02-28-2019     bigint       public\n19  zillow_housing  10-31-2019     bigint       public\n20  zillow_housing  12-31-2019     bigint       public\n21  zillow_housing  04-30-2020     bigint       public",
      "text/html": "<div>\n<style scoped>\n    .dataframe tbody tr th:only-of-type {\n        vertical-align: middle;\n    }\n\n    .dataframe tbody tr th {\n        vertical-align: top;\n    }\n\n    .dataframe thead th {\n        text-align: right;\n    }\n</style>\n<table border=\"1\" class=\"dataframe\">\n  <thead>\n    <tr style=\"text-align: right;\">\n      <th></th>\n      <th>table_name</th>\n      <th>column_name</th>\n      <th>data_type</th>\n      <th>table_schema</th>\n    </tr>\n  </thead>\n  <tbody>\n    <tr>\n      <th>0</th>\n      <td>zillow_housing</td>\n      <td>05-31-2019</td>\n      <td>bigint</td>\n      <td>public</td>\n    </tr>\n    <tr>\n      <th>1</th>\n      <td>zillow_housing</td>\n      <td>03-31-2019</td>\n      <td>bigint</td>\n      <td>public</td>\n    </tr>\n    <tr>\n      <th>2</th>\n      <td>zillow_housing</td>\n      <td>lng</td>\n      <td>numeric</td>\n      <td>public</td>\n    </tr>\n    <tr>\n      <th>3</th>\n      <td>zillow_housing</td>\n      <td>index</td>\n      <td>integer</td>\n      <td>public</td>\n    </tr>\n    <tr>\n      <th>4</th>\n      <td>zillow_housing</td>\n      <td>01-31-2019</td>\n      <td>bigint</td>\n      <td>public</td>\n    </tr>\n    <tr>\n      <th>5</th>\n      <td>zillow_housing</td>\n      <td>1-31-2020</td>\n      <td>bigint</td>\n      <td>public</td>\n    </tr>\n    <tr>\n      <th>6</th>\n      <td>zillow_housing</td>\n      <td>04-30-2019</td>\n      <td>bigint</td>\n      <td>public</td>\n    </tr>\n    <tr>\n      <th>7</th>\n      <td>zillow_housing</td>\n      <td>06-30-2019</td>\n      <td>bigint</td>\n      <td>public</td>\n    </tr>\n    <tr>\n      <th>8</th>\n      <td>zillow_housing</td>\n      <td>11-30-2019</td>\n      <td>bigint</td>\n      <td>public</td>\n    </tr>\n    <tr>\n      <th>9</th>\n      <td>zillow_housing</td>\n      <td>StateName</td>\n      <td>character</td>\n      <td>public</td>\n    </tr>\n    <tr>\n      <th>10</th>\n      <td>zillow_housing</td>\n      <td>05-31-2020</td>\n      <td>numeric</td>\n      <td>public</td>\n    </tr>\n    <tr>\n      <th>11</th>\n      <td>zillow_housing</td>\n      <td>RegionName</td>\n      <td>character</td>\n      <td>public</td>\n    </tr>\n    <tr>\n      <th>12</th>\n      <td>zillow_housing</td>\n      <td>07-31-2019</td>\n      <td>bigint</td>\n      <td>public</td>\n    </tr>\n    <tr>\n      <th>13</th>\n      <td>zillow_housing</td>\n      <td>09-30-2019</td>\n      <td>bigint</td>\n      <td>public</td>\n    </tr>\n    <tr>\n      <th>14</th>\n      <td>zillow_housing</td>\n      <td>3-31-2020</td>\n      <td>bigint</td>\n      <td>public</td>\n    </tr>\n    <tr>\n      <th>15</th>\n      <td>zillow_housing</td>\n      <td>2-29-2020</td>\n      <td>bigint</td>\n      <td>public</td>\n    </tr>\n    <tr>\n      <th>16</th>\n      <td>zillow_housing</td>\n      <td>08-31-2019</td>\n      <td>bigint</td>\n      <td>public</td>\n    </tr>\n    <tr>\n      <th>17</th>\n      <td>zillow_housing</td>\n      <td>lat</td>\n      <td>numeric</td>\n      <td>public</td>\n    </tr>\n    <tr>\n      <th>18</th>\n      <td>zillow_housing</td>\n      <td>02-28-2019</td>\n      <td>bigint</td>\n      <td>public</td>\n    </tr>\n    <tr>\n      <th>19</th>\n      <td>zillow_housing</td>\n      <td>10-31-2019</td>\n      <td>bigint</td>\n      <td>public</td>\n    </tr>\n    <tr>\n      <th>20</th>\n      <td>zillow_housing</td>\n      <td>12-31-2019</td>\n      <td>bigint</td>\n      <td>public</td>\n    </tr>\n    <tr>\n      <th>21</th>\n      <td>zillow_housing</td>\n      <td>04-30-2020</td>\n      <td>bigint</td>\n      <td>public</td>\n    </tr>\n  </tbody>\n</table>\n</div>"
     },
     "metadata": {},
     "execution_count": 14
    }
   ],
   "source": [
    "sql = \"\"\"\n",
    "SELECT \"table_name\",\"column_name\", \"data_type\", \"table_schema\"\n",
    "FROM INFORMATION_SCHEMA.COLUMNS\n",
    "WHERE \"table_schema\" = 'public'\n",
    "ORDER BY table_name  \n",
    "\"\"\"\n",
    "pd.read_sql(sql, con=connection)\n",
    "\n"
   ]
  },
  {
   "cell_type": "code",
   "execution_count": null,
   "metadata": {},
   "outputs": [],
   "source": []
  }
 ],
 "metadata": {
  "language_info": {
   "codemirror_mode": {
    "name": "ipython",
    "version": 3
   },
   "file_extension": ".py",
   "mimetype": "text/x-python",
   "name": "python",
   "nbconvert_exporter": "python",
   "pygments_lexer": "ipython3",
   "version": "3.7.7-final"
  },
  "orig_nbformat": 2,
  "kernelspec": {
   "name": "python361064bitpythondataconda702a049063da4b8fb25107aa449393fc",
   "display_name": "Python 3.6.10 64-bit ('PythonData': conda)"
  }
 },
 "nbformat": 4,
 "nbformat_minor": 2
}